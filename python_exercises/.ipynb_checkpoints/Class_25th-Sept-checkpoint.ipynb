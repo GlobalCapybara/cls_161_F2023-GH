{
 "cells": [
  {
   "cell_type": "markdown",
   "id": "b5efdfe8",
   "metadata": {},
   "source": [
    "# Conditionals"
   ]
  },
  {
   "cell_type": "code",
   "execution_count": 1,
   "id": "4bb2b1cb",
   "metadata": {},
   "outputs": [],
   "source": [
    "List_of_lists = [['A','B','C'],['D','E','F'],['1','2','3']]"
   ]
  },
  {
   "cell_type": "code",
   "execution_count": 2,
   "id": "c23f9f35",
   "metadata": {},
   "outputs": [
    {
     "data": {
      "text/plain": [
       "3"
      ]
     },
     "execution_count": 2,
     "metadata": {},
     "output_type": "execute_result"
    }
   ],
   "source": [
    "len(List_of_lists)"
   ]
  },
  {
   "cell_type": "code",
   "execution_count": 7,
   "id": "06a5ca16",
   "metadata": {},
   "outputs": [
    {
     "name": "stdout",
     "output_type": "stream",
     "text": [
      "2\n"
     ]
    }
   ],
   "source": [
    "print(List_of_lists[2][1])"
   ]
  },
  {
   "cell_type": "markdown",
   "id": "b78d9f7a",
   "metadata": {},
   "source": [
    "## Booleans"
   ]
  },
  {
   "cell_type": "code",
   "execution_count": 9,
   "id": "29f43c8c",
   "metadata": {},
   "outputs": [],
   "source": [
    "a = True\n",
    "b = False"
   ]
  },
  {
   "cell_type": "code",
   "execution_count": 10,
   "id": "8dcb1834",
   "metadata": {},
   "outputs": [
    {
     "data": {
      "text/plain": [
       "False"
      ]
     },
     "execution_count": 10,
     "metadata": {},
     "output_type": "execute_result"
    }
   ],
   "source": [
    "a & b"
   ]
  },
  {
   "cell_type": "code",
   "execution_count": 12,
   "id": "05fabc96",
   "metadata": {},
   "outputs": [
    {
     "name": "stdout",
     "output_type": "stream",
     "text": [
      "<class 'bool'>\n"
     ]
    }
   ],
   "source": [
    "print(type(a))"
   ]
  },
  {
   "cell_type": "code",
   "execution_count": 13,
   "id": "21699646",
   "metadata": {},
   "outputs": [
    {
     "data": {
      "text/plain": [
       "True"
      ]
     },
     "execution_count": 13,
     "metadata": {},
     "output_type": "execute_result"
    }
   ],
   "source": [
    "a or b"
   ]
  },
  {
   "cell_type": "code",
   "execution_count": 18,
   "id": "af6ac493",
   "metadata": {},
   "outputs": [
    {
     "data": {
      "text/plain": [
       "False"
      ]
     },
     "execution_count": 18,
     "metadata": {},
     "output_type": "execute_result"
    }
   ],
   "source": [
    "a == b"
   ]
  },
  {
   "cell_type": "code",
   "execution_count": 19,
   "id": "93edbfa7",
   "metadata": {},
   "outputs": [
    {
     "data": {
      "text/plain": [
       "True"
      ]
     },
     "execution_count": 19,
     "metadata": {},
     "output_type": "execute_result"
    }
   ],
   "source": [
    "a != b"
   ]
  },
  {
   "cell_type": "code",
   "execution_count": 20,
   "id": "3db665d4",
   "metadata": {},
   "outputs": [
    {
     "data": {
      "text/plain": [
       "True"
      ]
     },
     "execution_count": 20,
     "metadata": {},
     "output_type": "execute_result"
    }
   ],
   "source": [
    "a > b"
   ]
  },
  {
   "cell_type": "code",
   "execution_count": 21,
   "id": "c895c1cd",
   "metadata": {},
   "outputs": [
    {
     "data": {
      "text/plain": [
       "False"
      ]
     },
     "execution_count": 21,
     "metadata": {},
     "output_type": "execute_result"
    }
   ],
   "source": [
    "b > a"
   ]
  },
  {
   "cell_type": "code",
   "execution_count": 23,
   "id": "fa40d553",
   "metadata": {},
   "outputs": [
    {
     "name": "stdout",
     "output_type": "stream",
     "text": [
      "False\n"
     ]
    },
    {
     "data": {
      "text/plain": [
       "False"
      ]
     },
     "execution_count": 23,
     "metadata": {},
     "output_type": "execute_result"
    }
   ],
   "source": [
    "print(7==10) == b"
   ]
  },
  {
   "cell_type": "code",
   "execution_count": 26,
   "id": "36d940d0",
   "metadata": {},
   "outputs": [
    {
     "name": "stdout",
     "output_type": "stream",
     "text": [
      "True\n"
     ]
    }
   ],
   "source": [
    "print(7!=10)"
   ]
  },
  {
   "cell_type": "code",
   "execution_count": 30,
   "id": "2ce80035",
   "metadata": {},
   "outputs": [
    {
     "name": "stdout",
     "output_type": "stream",
     "text": [
      "False\n"
     ]
    },
    {
     "data": {
      "text/plain": [
       "False"
      ]
     },
     "execution_count": 30,
     "metadata": {},
     "output_type": "execute_result"
    }
   ],
   "source": [
    "(print(7>10)) == b"
   ]
  },
  {
   "cell_type": "code",
   "execution_count": 31,
   "id": "11b3c83f",
   "metadata": {},
   "outputs": [],
   "source": [
    "c = 18"
   ]
  },
  {
   "cell_type": "code",
   "execution_count": 32,
   "id": "5c1980a5",
   "metadata": {},
   "outputs": [
    {
     "data": {
      "text/plain": [
       "True"
      ]
     },
     "execution_count": 32,
     "metadata": {},
     "output_type": "execute_result"
    }
   ],
   "source": [
    "c == 18"
   ]
  },
  {
   "cell_type": "code",
   "execution_count": 33,
   "id": "4fe4d57b",
   "metadata": {},
   "outputs": [
    {
     "data": {
      "text/plain": [
       "False"
      ]
     },
     "execution_count": 33,
     "metadata": {},
     "output_type": "execute_result"
    }
   ],
   "source": [
    "'c' == 18"
   ]
  },
  {
   "cell_type": "code",
   "execution_count": 36,
   "id": "1555d7c1",
   "metadata": {},
   "outputs": [
    {
     "name": "stdout",
     "output_type": "stream",
     "text": [
      "True\n"
     ]
    }
   ],
   "source": [
    "print('Gibbon'==\"Gibbon\")"
   ]
  },
  {
   "cell_type": "code",
   "execution_count": 37,
   "id": "84234823",
   "metadata": {},
   "outputs": [
    {
     "name": "stdout",
     "output_type": "stream",
     "text": [
      "False\n"
     ]
    }
   ],
   "source": [
    "print(\"Gibbon\"==\"gibbon\")"
   ]
  },
  {
   "cell_type": "code",
   "execution_count": 38,
   "id": "0823212c",
   "metadata": {},
   "outputs": [],
   "source": [
    "historian_list = ['gibbon', 'heroditus','Sun-yat Sen']"
   ]
  },
  {
   "cell_type": "code",
   "execution_count": 42,
   "id": "a177da77",
   "metadata": {},
   "outputs": [
    {
     "name": "stdout",
     "output_type": "stream",
     "text": [
      "True\n"
     ]
    }
   ],
   "source": [
    "print(\"gibbon\" in historian_list)"
   ]
  },
  {
   "cell_type": "code",
   "execution_count": 43,
   "id": "c54384f8",
   "metadata": {},
   "outputs": [
    {
     "name": "stdout",
     "output_type": "stream",
     "text": [
      "False\n"
     ]
    }
   ],
   "source": [
    "print(\"Gibbon\" in historian_list)"
   ]
  },
  {
   "cell_type": "code",
   "execution_count": 44,
   "id": "6c26d3dc",
   "metadata": {},
   "outputs": [
    {
     "name": "stdout",
     "output_type": "stream",
     "text": [
      "False\n"
     ]
    }
   ],
   "source": [
    "print((\"Gibbon\" or 'gibbon') in historian_list)"
   ]
  },
  {
   "cell_type": "code",
   "execution_count": 88,
   "id": "af74ce65",
   "metadata": {},
   "outputs": [
    {
     "name": "stdout",
     "output_type": "stream",
     "text": [
      "True\n"
     ]
    }
   ],
   "source": [
    "print(\"Gibbon\" in historian_list or 'gibbon' in historian_list)"
   ]
  },
  {
   "cell_type": "markdown",
   "id": "4c53767e",
   "metadata": {},
   "source": [
    "## Conditionals"
   ]
  },
  {
   "cell_type": "code",
   "execution_count": 68,
   "id": "a1c9319c",
   "metadata": {},
   "outputs": [],
   "source": [
    "age = 18"
   ]
  },
  {
   "cell_type": "code",
   "execution_count": 77,
   "id": "7cc1d2c5",
   "metadata": {},
   "outputs": [
    {
     "name": "stdout",
     "output_type": "stream",
     "text": [
      "Vote NOW!\n"
     ]
    }
   ],
   "source": [
    "if age > 18:\n",
    "    print(\"Can Vote!\")\n",
    "elif age == 18:\n",
    "    print(\"Vote NOW!\")\n",
    "else:\n",
    "    print(\"Can't Vote!\")"
   ]
  },
  {
   "cell_type": "code",
   "execution_count": 79,
   "id": "becf980b",
   "metadata": {},
   "outputs": [
    {
     "ename": "SyntaxError",
     "evalue": "invalid syntax (1846441126.py, line 5)",
     "output_type": "error",
     "traceback": [
      "  Cell In[79], line 5\n    elif age == 18:\n    ^\nSyntaxError: invalid syntax\n"
     ]
    }
   ],
   "source": [
    "if age > 18:\n",
    "    print(\"Can Vote!\")\n",
    "else:\n",
    "    print(\"Can't Vote!\")\n",
    "elif age == 18:\n",
    "    print(\"Vote NOW!\")"
   ]
  },
  {
   "cell_type": "markdown",
   "id": "bbafbadd",
   "metadata": {},
   "source": [
    "Colon = True, 2nd Line Indented, Blank = False Standard.  When hit true, will finish!!"
   ]
  },
  {
   "cell_type": "code",
   "execution_count": 74,
   "id": "6ba8d70a",
   "metadata": {},
   "outputs": [
    {
     "name": "stdout",
     "output_type": "stream",
     "text": [
      "Hi\n"
     ]
    }
   ],
   "source": [
    "%colors NoColor\n",
    "print(\"Hi\")"
   ]
  },
  {
   "cell_type": "markdown",
   "id": "76e22e8c",
   "metadata": {},
   "source": [
    "## Boolean Operators"
   ]
  },
  {
   "cell_type": "code",
   "execution_count": 85,
   "id": "c3792e3d",
   "metadata": {},
   "outputs": [
    {
     "data": {
      "text/plain": [
       "True"
      ]
     },
     "execution_count": 85,
     "metadata": {},
     "output_type": "execute_result"
    }
   ],
   "source": [
    "(7!=10) or (7>10)"
   ]
  },
  {
   "cell_type": "code",
   "execution_count": null,
   "id": "fbeed9a0",
   "metadata": {},
   "outputs": [],
   "source": []
  }
 ],
 "metadata": {
  "kernelspec": {
   "display_name": "Python 3 (ipykernel)",
   "language": "python",
   "name": "python3"
  },
  "language_info": {
   "codemirror_mode": {
    "name": "ipython",
    "version": 3
   },
   "file_extension": ".py",
   "mimetype": "text/x-python",
   "name": "python",
   "nbconvert_exporter": "python",
   "pygments_lexer": "ipython3",
   "version": "3.11.4"
  }
 },
 "nbformat": 4,
 "nbformat_minor": 5
}
