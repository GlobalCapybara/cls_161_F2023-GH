{
 "cells": [
  {
   "cell_type": "markdown",
   "id": "844ba02b",
   "metadata": {},
   "source": [
    "Some text there"
   ]
  },
  {
   "cell_type": "markdown",
   "id": "993372e9",
   "metadata": {},
   "source": [
    "# Heading 1 test"
   ]
  },
  {
   "cell_type": "markdown",
   "id": "8d8b5109",
   "metadata": {},
   "source": [
    "## Heading 2 test"
   ]
  },
  {
   "cell_type": "code",
   "execution_count": 1,
   "id": "5c9025d7",
   "metadata": {},
   "outputs": [
    {
     "name": "stdout",
     "output_type": "stream",
     "text": [
      "Salve, Mond\n"
     ]
    }
   ],
   "source": [
    "print(\"Salve, Mond\")"
   ]
  },
  {
   "cell_type": "markdown",
   "id": "4f11b0a9",
   "metadata": {},
   "source": [
    "## Variables Defs"
   ]
  },
  {
   "cell_type": "code",
   "execution_count": 2,
   "id": "c8f5e003",
   "metadata": {},
   "outputs": [],
   "source": [
    "greeting = \"Salve, 世界\""
   ]
  },
  {
   "cell_type": "code",
   "execution_count": 3,
   "id": "2d7aa9b0",
   "metadata": {},
   "outputs": [
    {
     "name": "stdout",
     "output_type": "stream",
     "text": [
      "Salve, 世界\n"
     ]
    }
   ],
   "source": [
    "print(greeting)"
   ]
  },
  {
   "cell_type": "markdown",
   "id": "769a9ba4",
   "metadata": {},
   "source": [
    "^^ No Quotes on 'greeting'"
   ]
  },
  {
   "cell_type": "code",
   "execution_count": 4,
   "id": "32bc9c95",
   "metadata": {},
   "outputs": [
    {
     "ename": "NameError",
     "evalue": "name 'greeetyng' is not defined",
     "output_type": "error",
     "traceback": [
      "\u001b[1;31m---------------------------------------------------------------------------\u001b[0m",
      "\u001b[1;31mNameError\u001b[0m                                 Traceback (most recent call last)",
      "Cell \u001b[1;32mIn[4], line 1\u001b[0m\n\u001b[1;32m----> 1\u001b[0m \u001b[38;5;28mprint\u001b[39m(greeetyng)\n",
      "\u001b[1;31mNameError\u001b[0m: name 'greeetyng' is not defined"
     ]
    }
   ],
   "source": [
    "print(greeetyng)"
   ]
  },
  {
   "cell_type": "markdown",
   "id": "de92902a",
   "metadata": {},
   "source": [
    "^ 'Not Defined' = Typo"
   ]
  },
  {
   "cell_type": "code",
   "execution_count": 5,
   "id": "d89cd3c6",
   "metadata": {},
   "outputs": [],
   "source": [
    "greeting = \"さようなら、Welt.\""
   ]
  },
  {
   "cell_type": "code",
   "execution_count": 6,
   "id": "71a11049",
   "metadata": {},
   "outputs": [
    {
     "name": "stdout",
     "output_type": "stream",
     "text": [
      "さようなら、Welt.\n"
     ]
    }
   ],
   "source": [
    "print(greeting)"
   ]
  },
  {
   "cell_type": "markdown",
   "id": "535e71ed",
   "metadata": {},
   "source": [
    "^ Can overwrite"
   ]
  },
  {
   "cell_type": "code",
   "execution_count": 7,
   "id": "6f7321a5",
   "metadata": {},
   "outputs": [],
   "source": [
    "greeting = \"Salve, 世界\""
   ]
  },
  {
   "cell_type": "code",
   "execution_count": 8,
   "id": "f0a80897",
   "metadata": {},
   "outputs": [],
   "source": [
    "初めまして = \"Hallo\""
   ]
  },
  {
   "cell_type": "code",
   "execution_count": 10,
   "id": "74e53d5f",
   "metadata": {},
   "outputs": [
    {
     "name": "stdout",
     "output_type": "stream",
     "text": [
      "Hallo\n"
     ]
    }
   ],
   "source": [
    "print(初めまして)"
   ]
  },
  {
   "cell_type": "code",
   "execution_count": 11,
   "id": "8d01b9ab",
   "metadata": {},
   "outputs": [
    {
     "ename": "NameError",
     "evalue": "name 'Hajimemashite' is not defined",
     "output_type": "error",
     "traceback": [
      "\u001b[1;31m---------------------------------------------------------------------------\u001b[0m",
      "\u001b[1;31mNameError\u001b[0m                                 Traceback (most recent call last)",
      "Cell \u001b[1;32mIn[11], line 1\u001b[0m\n\u001b[1;32m----> 1\u001b[0m \u001b[38;5;28mprint\u001b[39m(Hajimemashite)\n",
      "\u001b[1;31mNameError\u001b[0m: name 'Hajimemashite' is not defined"
     ]
    }
   ],
   "source": [
    "print(Hajimemashite)"
   ]
  },
  {
   "cell_type": "markdown",
   "id": "648ec18e",
   "metadata": {},
   "source": [
    "## Strings"
   ]
  },
  {
   "cell_type": "code",
   "execution_count": 14,
   "id": "45d37982",
   "metadata": {},
   "outputs": [
    {
     "name": "stdout",
     "output_type": "stream",
     "text": [
      "Erste String\n"
     ]
    }
   ],
   "source": [
    "beispiel_1 = \"Erste String\"\n",
    "print(beispiel_1)"
   ]
  },
  {
   "cell_type": "code",
   "execution_count": 17,
   "id": "21462c9d",
   "metadata": {},
   "outputs": [
    {
     "name": "stdout",
     "output_type": "stream",
     "text": [
      "Auch ein String\n"
     ]
    }
   ],
   "source": [
    "beispiel_2 = \"Auch ein String\"\n",
    "print(beispiel_2)"
   ]
  },
  {
   "cell_type": "code",
   "execution_count": 18,
   "id": "f9cc0662",
   "metadata": {},
   "outputs": [
    {
     "ename": "SyntaxError",
     "evalue": "invalid syntax (610361469.py, line 1)",
     "output_type": "error",
     "traceback": [
      "\u001b[1;36m  Cell \u001b[1;32mIn[18], line 1\u001b[1;36m\u001b[0m\n\u001b[1;33m    beispiel_3 = \"Ich fragte, \"Im welchen Sitzuation soll ich Doppelqwellen benutzen?\"\"\u001b[0m\n\u001b[1;37m                               ^\u001b[0m\n\u001b[1;31mSyntaxError\u001b[0m\u001b[1;31m:\u001b[0m invalid syntax\n"
     ]
    }
   ],
   "source": [
    "beispiel_3 = \"Ich fragte, \"Im welchen Sitzuation soll ich Doppelqwellen benutzen?\"\"\n",
    "print(beispiel_3)"
   ]
  },
  {
   "cell_type": "code",
   "execution_count": 21,
   "id": "6319598b",
   "metadata": {},
   "outputs": [
    {
     "name": "stdout",
     "output_type": "stream",
     "text": [
      "Ich fragte, \"Im welchen Sitzuation soll ich Doppelqwellen benutzen?\"\n"
     ]
    }
   ],
   "source": [
    "vierten_beispiel = 'Ich fragte, \"Im welchen Sitzuation soll ich Doppelqwellen benutzen?\"'\n",
    "print(vierten_beispiel)"
   ]
  },
  {
   "cell_type": "code",
   "execution_count": 22,
   "id": "0b29fb8e",
   "metadata": {},
   "outputs": [
    {
     "ename": "NameError",
     "evalue": "name 'はじめまして' is not defined",
     "output_type": "error",
     "traceback": [
      "\u001b[1;31m---------------------------------------------------------------------------\u001b[0m",
      "\u001b[1;31mNameError\u001b[0m                                 Traceback (most recent call last)",
      "Cell \u001b[1;32mIn[22], line 1\u001b[0m\n\u001b[1;32m----> 1\u001b[0m \u001b[38;5;28mprint\u001b[39m(はじめまして)\n",
      "\u001b[1;31mNameError\u001b[0m: name 'はじめまして' is not defined"
     ]
    }
   ],
   "source": [
    "print(はじめまして)"
   ]
  },
  {
   "cell_type": "code",
   "execution_count": 23,
   "id": "46d322b3",
   "metadata": {},
   "outputs": [],
   "source": [
    "historian = \"edward gibbon\" #Decline & Fall of Roman Empire"
   ]
  },
  {
   "cell_type": "code",
   "execution_count": 24,
   "id": "31fc4b62",
   "metadata": {},
   "outputs": [
    {
     "name": "stdout",
     "output_type": "stream",
     "text": [
      "edward gibbon\n"
     ]
    }
   ],
   "source": [
    "print(historian)"
   ]
  },
  {
   "cell_type": "code",
   "execution_count": 28,
   "id": "4b711257",
   "metadata": {},
   "outputs": [
    {
     "name": "stdout",
     "output_type": "stream",
     "text": [
      "Edward Gibbon\n"
     ]
    }
   ],
   "source": [
    "print(historian.title())"
   ]
  },
  {
   "cell_type": "code",
   "execution_count": 30,
   "id": "3670e1d9",
   "metadata": {},
   "outputs": [],
   "source": [
    "novelist = \"Becky Chambers\" #Psalm for the Wild-built?"
   ]
  },
  {
   "cell_type": "code",
   "execution_count": 31,
   "id": "1287c005",
   "metadata": {},
   "outputs": [
    {
     "name": "stdout",
     "output_type": "stream",
     "text": [
      "Becky Chambers\n",
      "BECKY CHAMBERS\n",
      "becky chambers\n"
     ]
    }
   ],
   "source": [
    "print(novelist)\n",
    "print(novelist.upper())\n",
    "print(novelist.lower())"
   ]
  },
  {
   "cell_type": "markdown",
   "id": "4fa22a8b",
   "metadata": {},
   "source": [
    "September 20th, 2023 >>"
   ]
  },
  {
   "cell_type": "code",
   "execution_count": 8,
   "id": "da500a98",
   "metadata": {
    "scrolled": true
   },
   "outputs": [],
   "source": [
    "string_x = \"Kannst du die x im dieser String finden?\""
   ]
  },
  {
   "cell_type": "code",
   "execution_count": 9,
   "id": "caa5af6b",
   "metadata": {},
   "outputs": [
    {
     "name": "stdout",
     "output_type": "stream",
     "text": [
      "Kannst du die x im dieser String finden?\n"
     ]
    }
   ],
   "source": [
    "print(string_x)"
   ]
  },
  {
   "cell_type": "code",
   "execution_count": 10,
   "id": "be5f21ab",
   "metadata": {},
   "outputs": [
    {
     "name": "stdout",
     "output_type": "stream",
     "text": [
      "14\n"
     ]
    }
   ],
   "source": [
    "print(string_x.find(\"x\"))"
   ]
  },
  {
   "cell_type": "markdown",
   "id": "effd188b",
   "metadata": {},
   "source": [
    "Start @ 0 = K"
   ]
  },
  {
   "cell_type": "markdown",
   "id": "a362f840",
   "metadata": {},
   "source": [
    "## Integer"
   ]
  },
  {
   "cell_type": "code",
   "execution_count": 15,
   "id": "8b234cfb",
   "metadata": {},
   "outputs": [
    {
     "data": {
      "text/plain": [
       "14271"
      ]
     },
     "execution_count": 15,
     "metadata": {},
     "output_type": "execute_result"
    }
   ],
   "source": [
    "4279 + 9992"
   ]
  },
  {
   "cell_type": "code",
   "execution_count": 16,
   "id": "efc80200",
   "metadata": {},
   "outputs": [
    {
     "data": {
      "text/plain": [
       "71"
      ]
     },
     "execution_count": 16,
     "metadata": {},
     "output_type": "execute_result"
    }
   ],
   "source": [
    "82 - 11"
   ]
  },
  {
   "cell_type": "code",
   "execution_count": 17,
   "id": "662d641c",
   "metadata": {},
   "outputs": [
    {
     "data": {
      "text/plain": [
       "462"
      ]
     },
     "execution_count": 17,
     "metadata": {},
     "output_type": "execute_result"
    }
   ],
   "source": [
    "42 * 11"
   ]
  },
  {
   "cell_type": "code",
   "execution_count": 18,
   "id": "e0090113",
   "metadata": {},
   "outputs": [
    {
     "data": {
      "text/plain": [
       "5.0"
      ]
     },
     "execution_count": 18,
     "metadata": {},
     "output_type": "execute_result"
    }
   ],
   "source": [
    "15/3"
   ]
  },
  {
   "cell_type": "code",
   "execution_count": 19,
   "id": "dfbf469e",
   "metadata": {},
   "outputs": [
    {
     "data": {
      "text/plain": [
       "49"
      ]
     },
     "execution_count": 19,
     "metadata": {},
     "output_type": "execute_result"
    }
   ],
   "source": [
    "7 **2"
   ]
  },
  {
   "cell_type": "code",
   "execution_count": 20,
   "id": "87b6ba7f",
   "metadata": {},
   "outputs": [
    {
     "data": {
      "text/plain": [
       "0.53"
      ]
     },
     "execution_count": 20,
     "metadata": {},
     "output_type": "execute_result"
    }
   ],
   "source": [
    "0.2 + .33"
   ]
  },
  {
   "cell_type": "code",
   "execution_count": 25,
   "id": "c0c26c79",
   "metadata": {},
   "outputs": [],
   "source": [
    "large_number = 1_000_082"
   ]
  },
  {
   "cell_type": "code",
   "execution_count": 26,
   "id": "5f7cb5f2",
   "metadata": {},
   "outputs": [
    {
     "data": {
      "text/plain": [
       "1000085"
      ]
     },
     "execution_count": 26,
     "metadata": {},
     "output_type": "execute_result"
    }
   ],
   "source": [
    "large_number + 3"
   ]
  },
  {
   "cell_type": "code",
   "execution_count": 27,
   "id": "5ee597d1",
   "metadata": {},
   "outputs": [],
   "source": [
    "x,y,z = 1,2,3"
   ]
  },
  {
   "cell_type": "code",
   "execution_count": 30,
   "id": "afa11d18",
   "metadata": {},
   "outputs": [
    {
     "name": "stdout",
     "output_type": "stream",
     "text": [
      "3\n"
     ]
    }
   ],
   "source": [
    "print(z)"
   ]
  },
  {
   "cell_type": "code",
   "execution_count": 34,
   "id": "40f9a091",
   "metadata": {},
   "outputs": [
    {
     "ename": "TypeError",
     "evalue": "can only concatenate str (not \"int\") to str",
     "output_type": "error",
     "traceback": [
      "\u001b[1;31m---------------------------------------------------------------------------\u001b[0m",
      "\u001b[1;31mTypeError\u001b[0m                                 Traceback (most recent call last)",
      "Cell \u001b[1;32mIn[34], line 1\u001b[0m\n\u001b[1;32m----> 1\u001b[0m \u001b[38;5;124m'\u001b[39m\u001b[38;5;124m14\u001b[39m\u001b[38;5;124m'\u001b[39m \u001b[38;5;241m+\u001b[39m \u001b[38;5;241m4\u001b[39m\n",
      "\u001b[1;31mTypeError\u001b[0m: can only concatenate str (not \"int\") to str"
     ]
    }
   ],
   "source": [
    "'14' + 4"
   ]
  },
  {
   "cell_type": "code",
   "execution_count": 35,
   "id": "9e2c1852",
   "metadata": {},
   "outputs": [
    {
     "data": {
      "text/plain": [
       "'146'"
      ]
     },
     "execution_count": 35,
     "metadata": {},
     "output_type": "execute_result"
    }
   ],
   "source": [
    "'14' + \"6\""
   ]
  },
  {
   "cell_type": "markdown",
   "id": "b853deb9",
   "metadata": {},
   "source": [
    "^^Concat"
   ]
  },
  {
   "cell_type": "code",
   "execution_count": 36,
   "id": "b7ce6567",
   "metadata": {
    "scrolled": true
   },
   "outputs": [
    {
     "name": "stdout",
     "output_type": "stream",
     "text": [
      "<class 'str'>\n"
     ]
    }
   ],
   "source": [
    "print(type('14'))"
   ]
  },
  {
   "cell_type": "code",
   "execution_count": 38,
   "id": "14cb7a43",
   "metadata": {},
   "outputs": [
    {
     "name": "stdout",
     "output_type": "stream",
     "text": [
      "<class 'int'>\n"
     ]
    }
   ],
   "source": [
    "print(type(x))"
   ]
  },
  {
   "cell_type": "markdown",
   "id": "a9a313d6",
   "metadata": {},
   "source": [
    "## Lists - Data Structures, Arrays"
   ]
  },
  {
   "cell_type": "code",
   "execution_count": 41,
   "id": "dd35cc97",
   "metadata": {},
   "outputs": [],
   "source": [
    "subjects = ['Pop Culture','Digital Humanities','Animals Crossing'] # MUST BE BRACKETS '[]' [0Position,1Position,2Position...]"
   ]
  },
  {
   "cell_type": "code",
   "execution_count": 42,
   "id": "fc1eeb13",
   "metadata": {},
   "outputs": [
    {
     "name": "stdout",
     "output_type": "stream",
     "text": [
      "['Pop Culture', 'Digital Humanities', 'Animals Crossing']\n"
     ]
    }
   ],
   "source": [
    "print(subjects)"
   ]
  },
  {
   "cell_type": "code",
   "execution_count": 46,
   "id": "262a413f",
   "metadata": {},
   "outputs": [
    {
     "name": "stdout",
     "output_type": "stream",
     "text": [
      "Pop Culture\n"
     ]
    }
   ],
   "source": [
    "print(subjects[0]) #Brackets & Position #"
   ]
  },
  {
   "cell_type": "code",
   "execution_count": 49,
   "id": "fb828e7b",
   "metadata": {},
   "outputs": [
    {
     "data": {
      "text/plain": [
       "'Pop Culture'"
      ]
     },
     "execution_count": 49,
     "metadata": {},
     "output_type": "execute_result"
    }
   ],
   "source": [
    "subjects[0] #Print Default Here, No Habit"
   ]
  },
  {
   "cell_type": "code",
   "execution_count": null,
   "id": "64b68a6a",
   "metadata": {},
   "outputs": [],
   "source": []
  }
 ],
 "metadata": {
  "kernelspec": {
   "display_name": "Python 3 (ipykernel)",
   "language": "python",
   "name": "python3"
  },
  "language_info": {
   "codemirror_mode": {
    "name": "ipython",
    "version": 3
   },
   "file_extension": ".py",
   "mimetype": "text/x-python",
   "name": "python",
   "nbconvert_exporter": "python",
   "pygments_lexer": "ipython3",
   "version": "3.11.4"
  }
 },
 "nbformat": 4,
 "nbformat_minor": 5
}
