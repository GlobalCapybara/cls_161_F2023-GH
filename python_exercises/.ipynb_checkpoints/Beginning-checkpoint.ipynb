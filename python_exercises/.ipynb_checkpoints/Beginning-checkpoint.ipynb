{
 "cells": [
  {
   "cell_type": "markdown",
   "id": "844ba02b",
   "metadata": {},
   "source": [
    "Some text there"
   ]
  },
  {
   "cell_type": "markdown",
   "id": "993372e9",
   "metadata": {},
   "source": [
    "# Heading 1 test"
   ]
  },
  {
   "cell_type": "markdown",
   "id": "8d8b5109",
   "metadata": {},
   "source": [
    "## Heading 2 test"
   ]
  },
  {
   "cell_type": "code",
   "execution_count": 1,
   "id": "5c9025d7",
   "metadata": {},
   "outputs": [
    {
     "name": "stdout",
     "output_type": "stream",
     "text": [
      "Salve, Mond\n"
     ]
    }
   ],
   "source": [
    "print(\"Salve, Mond\")"
   ]
  },
  {
   "cell_type": "markdown",
   "id": "4f11b0a9",
   "metadata": {},
   "source": [
    "## Variables Defs"
   ]
  },
  {
   "cell_type": "code",
   "execution_count": 2,
   "id": "c8f5e003",
   "metadata": {},
   "outputs": [],
   "source": [
    "greeting = \"Salve, 世界\""
   ]
  },
  {
   "cell_type": "code",
   "execution_count": 3,
   "id": "2d7aa9b0",
   "metadata": {},
   "outputs": [
    {
     "name": "stdout",
     "output_type": "stream",
     "text": [
      "Salve, 世界\n"
     ]
    }
   ],
   "source": [
    "print(greeting)"
   ]
  },
  {
   "cell_type": "markdown",
   "id": "769a9ba4",
   "metadata": {},
   "source": [
    "^^ No Quotes on 'greeting'"
   ]
  },
  {
   "cell_type": "code",
   "execution_count": 4,
   "id": "32bc9c95",
   "metadata": {},
   "outputs": [
    {
     "ename": "NameError",
     "evalue": "name 'greeetyng' is not defined",
     "output_type": "error",
     "traceback": [
      "\u001b[1;31m---------------------------------------------------------------------------\u001b[0m",
      "\u001b[1;31mNameError\u001b[0m                                 Traceback (most recent call last)",
      "Cell \u001b[1;32mIn[4], line 1\u001b[0m\n\u001b[1;32m----> 1\u001b[0m \u001b[38;5;28mprint\u001b[39m(greeetyng)\n",
      "\u001b[1;31mNameError\u001b[0m: name 'greeetyng' is not defined"
     ]
    }
   ],
   "source": [
    "print(greeetyng)"
   ]
  },
  {
   "cell_type": "markdown",
   "id": "de92902a",
   "metadata": {},
   "source": [
    "^ 'Not Defined' = Typo"
   ]
  },
  {
   "cell_type": "code",
   "execution_count": 5,
   "id": "d89cd3c6",
   "metadata": {},
   "outputs": [],
   "source": [
    "greeting = \"さようなら、Welt.\""
   ]
  },
  {
   "cell_type": "code",
   "execution_count": 6,
   "id": "71a11049",
   "metadata": {},
   "outputs": [
    {
     "name": "stdout",
     "output_type": "stream",
     "text": [
      "さようなら、Welt.\n"
     ]
    }
   ],
   "source": [
    "print(greeting)"
   ]
  },
  {
   "cell_type": "markdown",
   "id": "535e71ed",
   "metadata": {},
   "source": [
    "^ Can overwrite"
   ]
  },
  {
   "cell_type": "code",
   "execution_count": 7,
   "id": "6f7321a5",
   "metadata": {},
   "outputs": [],
   "source": [
    "greeting = \"Salve, 世界\""
   ]
  },
  {
   "cell_type": "code",
   "execution_count": 8,
   "id": "f0a80897",
   "metadata": {},
   "outputs": [],
   "source": [
    "初めまして = \"Hallo\""
   ]
  },
  {
   "cell_type": "code",
   "execution_count": 10,
   "id": "74e53d5f",
   "metadata": {},
   "outputs": [
    {
     "name": "stdout",
     "output_type": "stream",
     "text": [
      "Hallo\n"
     ]
    }
   ],
   "source": [
    "print(初めまして)"
   ]
  },
  {
   "cell_type": "code",
   "execution_count": 11,
   "id": "8d01b9ab",
   "metadata": {},
   "outputs": [
    {
     "ename": "NameError",
     "evalue": "name 'Hajimemashite' is not defined",
     "output_type": "error",
     "traceback": [
      "\u001b[1;31m---------------------------------------------------------------------------\u001b[0m",
      "\u001b[1;31mNameError\u001b[0m                                 Traceback (most recent call last)",
      "Cell \u001b[1;32mIn[11], line 1\u001b[0m\n\u001b[1;32m----> 1\u001b[0m \u001b[38;5;28mprint\u001b[39m(Hajimemashite)\n",
      "\u001b[1;31mNameError\u001b[0m: name 'Hajimemashite' is not defined"
     ]
    }
   ],
   "source": [
    "print(Hajimemashite)"
   ]
  },
  {
   "cell_type": "markdown",
   "id": "648ec18e",
   "metadata": {},
   "source": [
    "## Strings"
   ]
  },
  {
   "cell_type": "code",
   "execution_count": 14,
   "id": "45d37982",
   "metadata": {},
   "outputs": [
    {
     "name": "stdout",
     "output_type": "stream",
     "text": [
      "Erste String\n"
     ]
    }
   ],
   "source": [
    "beispiel_1 = \"Erste String\"\n",
    "print(beispiel_1)"
   ]
  },
  {
   "cell_type": "code",
   "execution_count": 17,
   "id": "21462c9d",
   "metadata": {},
   "outputs": [
    {
     "name": "stdout",
     "output_type": "stream",
     "text": [
      "Auch ein String\n"
     ]
    }
   ],
   "source": [
    "beispiel_2 = \"Auch ein String\"\n",
    "print(beispiel_2)"
   ]
  },
  {
   "cell_type": "code",
   "execution_count": 18,
   "id": "f9cc0662",
   "metadata": {},
   "outputs": [
    {
     "ename": "SyntaxError",
     "evalue": "invalid syntax (610361469.py, line 1)",
     "output_type": "error",
     "traceback": [
      "\u001b[1;36m  Cell \u001b[1;32mIn[18], line 1\u001b[1;36m\u001b[0m\n\u001b[1;33m    beispiel_3 = \"Ich fragte, \"Im welchen Sitzuation soll ich Doppelqwellen benutzen?\"\"\u001b[0m\n\u001b[1;37m                               ^\u001b[0m\n\u001b[1;31mSyntaxError\u001b[0m\u001b[1;31m:\u001b[0m invalid syntax\n"
     ]
    }
   ],
   "source": [
    "beispiel_3 = \"Ich fragte, \"Im welchen Sitzuation soll ich Doppelqwellen benutzen?\"\"\n",
    "print(beispiel_3)"
   ]
  },
  {
   "cell_type": "code",
   "execution_count": 21,
   "id": "6319598b",
   "metadata": {},
   "outputs": [
    {
     "name": "stdout",
     "output_type": "stream",
     "text": [
      "Ich fragte, \"Im welchen Sitzuation soll ich Doppelqwellen benutzen?\"\n"
     ]
    }
   ],
   "source": [
    "vierten_beispiel = 'Ich fragte, \"Im welchen Sitzuation soll ich Doppelqwellen benutzen?\"'\n",
    "print(vierten_beispiel)"
   ]
  },
  {
   "cell_type": "code",
   "execution_count": 22,
   "id": "0b29fb8e",
   "metadata": {},
   "outputs": [
    {
     "ename": "NameError",
     "evalue": "name 'はじめまして' is not defined",
     "output_type": "error",
     "traceback": [
      "\u001b[1;31m---------------------------------------------------------------------------\u001b[0m",
      "\u001b[1;31mNameError\u001b[0m                                 Traceback (most recent call last)",
      "Cell \u001b[1;32mIn[22], line 1\u001b[0m\n\u001b[1;32m----> 1\u001b[0m \u001b[38;5;28mprint\u001b[39m(はじめまして)\n",
      "\u001b[1;31mNameError\u001b[0m: name 'はじめまして' is not defined"
     ]
    }
   ],
   "source": [
    "print(はじめまして)"
   ]
  },
  {
   "cell_type": "code",
   "execution_count": 23,
   "id": "46d322b3",
   "metadata": {},
   "outputs": [],
   "source": [
    "historian = \"edward gibbon\" #Decline & Fall of Roman Empire"
   ]
  },
  {
   "cell_type": "code",
   "execution_count": 24,
   "id": "31fc4b62",
   "metadata": {},
   "outputs": [
    {
     "name": "stdout",
     "output_type": "stream",
     "text": [
      "edward gibbon\n"
     ]
    }
   ],
   "source": [
    "print(historian)"
   ]
  },
  {
   "cell_type": "code",
   "execution_count": 28,
   "id": "4b711257",
   "metadata": {},
   "outputs": [
    {
     "name": "stdout",
     "output_type": "stream",
     "text": [
      "Edward Gibbon\n"
     ]
    }
   ],
   "source": [
    "print(historian.title())"
   ]
  },
  {
   "cell_type": "code",
   "execution_count": 30,
   "id": "3670e1d9",
   "metadata": {},
   "outputs": [],
   "source": [
    "novelist = \"Becky Chambers\" #Psalm for the Wild-built?"
   ]
  },
  {
   "cell_type": "code",
   "execution_count": 31,
   "id": "1287c005",
   "metadata": {},
   "outputs": [
    {
     "name": "stdout",
     "output_type": "stream",
     "text": [
      "Becky Chambers\n",
      "BECKY CHAMBERS\n",
      "becky chambers\n"
     ]
    }
   ],
   "source": [
    "print(novelist)\n",
    "print(novelist.upper())\n",
    "print(novelist.lower())"
   ]
  },
  {
   "cell_type": "code",
   "execution_count": null,
   "id": "fffd8009",
   "metadata": {},
   "outputs": [],
   "source": []
  }
 ],
 "metadata": {
  "kernelspec": {
   "display_name": "Python 3 (ipykernel)",
   "language": "python",
   "name": "python3"
  },
  "language_info": {
   "codemirror_mode": {
    "name": "ipython",
    "version": 3
   },
   "file_extension": ".py",
   "mimetype": "text/x-python",
   "name": "python",
   "nbconvert_exporter": "python",
   "pygments_lexer": "ipython3",
   "version": "3.11.4"
  }
 },
 "nbformat": 4,
 "nbformat_minor": 5
}
