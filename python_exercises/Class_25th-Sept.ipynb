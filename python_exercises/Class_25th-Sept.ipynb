{
 "cells": [
  {
   "cell_type": "markdown",
   "id": "624b36dc",
   "metadata": {},
   "source": [
    "# Conditionals"
   ]
  },
  {
   "cell_type": "code",
   "execution_count": 1,
   "id": "cfe958a6",
   "metadata": {},
   "outputs": [],
   "source": [
    "List_of_lists = [['A','B','C'],['D','E','F'],['1','2','3']]"
   ]
  },
  {
   "cell_type": "code",
   "execution_count": 2,
   "id": "b4bd4cc7",
   "metadata": {},
   "outputs": [
    {
     "data": {
      "text/plain": [
       "3"
      ]
     },
     "execution_count": 2,
     "metadata": {},
     "output_type": "execute_result"
    }
   ],
   "source": [
    "len(List_of_lists)"
   ]
  },
  {
   "cell_type": "code",
   "execution_count": 7,
   "id": "de0cefef",
   "metadata": {},
   "outputs": [
    {
     "name": "stdout",
     "output_type": "stream",
     "text": [
      "2\n"
     ]
    }
   ],
   "source": [
    "print(List_of_lists[2][1])"
   ]
  },
  {
   "cell_type": "markdown",
   "id": "f61697f0",
   "metadata": {},
   "source": [
    "## Booleans"
   ]
  },
  {
   "cell_type": "code",
   "execution_count": 9,
   "id": "e94971a9",
   "metadata": {},
   "outputs": [],
   "source": [
    "a = True\n",
    "b = False"
   ]
  },
  {
   "cell_type": "code",
   "execution_count": 10,
   "id": "b8aa512b",
   "metadata": {},
   "outputs": [
    {
     "data": {
      "text/plain": [
       "False"
      ]
     },
     "execution_count": 10,
     "metadata": {},
     "output_type": "execute_result"
    }
   ],
   "source": [
    "a & b"
   ]
  },
  {
   "cell_type": "code",
   "execution_count": 12,
   "id": "a3066094",
   "metadata": {},
   "outputs": [
    {
     "name": "stdout",
     "output_type": "stream",
     "text": [
      "<class 'bool'>\n"
     ]
    }
   ],
   "source": [
    "print(type(a))"
   ]
  },
  {
   "cell_type": "code",
   "execution_count": 13,
   "id": "ff42a5ee",
   "metadata": {},
   "outputs": [
    {
     "data": {
      "text/plain": [
       "True"
      ]
     },
     "execution_count": 13,
     "metadata": {},
     "output_type": "execute_result"
    }
   ],
   "source": [
    "a or b"
   ]
  },
  {
   "cell_type": "code",
   "execution_count": 18,
   "id": "d60e280c",
   "metadata": {},
   "outputs": [
    {
     "data": {
      "text/plain": [
       "False"
      ]
     },
     "execution_count": 18,
     "metadata": {},
     "output_type": "execute_result"
    }
   ],
   "source": [
    "a == b"
   ]
  },
  {
   "cell_type": "code",
   "execution_count": 19,
   "id": "c0d6f6b4",
   "metadata": {},
   "outputs": [
    {
     "data": {
      "text/plain": [
       "True"
      ]
     },
     "execution_count": 19,
     "metadata": {},
     "output_type": "execute_result"
    }
   ],
   "source": [
    "a != b"
   ]
  },
  {
   "cell_type": "code",
   "execution_count": 20,
   "id": "8fe94a6f",
   "metadata": {},
   "outputs": [
    {
     "data": {
      "text/plain": [
       "True"
      ]
     },
     "execution_count": 20,
     "metadata": {},
     "output_type": "execute_result"
    }
   ],
   "source": [
    "a > b"
   ]
  },
  {
   "cell_type": "code",
   "execution_count": 21,
   "id": "c3592bbe",
   "metadata": {},
   "outputs": [
    {
     "data": {
      "text/plain": [
       "False"
      ]
     },
     "execution_count": 21,
     "metadata": {},
     "output_type": "execute_result"
    }
   ],
   "source": [
    "b > a"
   ]
  },
  {
   "cell_type": "code",
   "execution_count": 23,
   "id": "1cbdecba",
   "metadata": {},
   "outputs": [
    {
     "name": "stdout",
     "output_type": "stream",
     "text": [
      "False\n"
     ]
    },
    {
     "data": {
      "text/plain": [
       "False"
      ]
     },
     "execution_count": 23,
     "metadata": {},
     "output_type": "execute_result"
    }
   ],
   "source": [
    "print(7==10) == b"
   ]
  },
  {
   "cell_type": "code",
   "execution_count": 26,
   "id": "406022a3",
   "metadata": {},
   "outputs": [
    {
     "name": "stdout",
     "output_type": "stream",
     "text": [
      "True\n"
     ]
    }
   ],
   "source": [
    "print(7!=10)"
   ]
  },
  {
   "cell_type": "code",
   "execution_count": 30,
   "id": "24a0dcda",
   "metadata": {},
   "outputs": [
    {
     "name": "stdout",
     "output_type": "stream",
     "text": [
      "False\n"
     ]
    },
    {
     "data": {
      "text/plain": [
       "False"
      ]
     },
     "execution_count": 30,
     "metadata": {},
     "output_type": "execute_result"
    }
   ],
   "source": [
    "(print(7>10)) == b"
   ]
  },
  {
   "cell_type": "code",
   "execution_count": 31,
   "id": "ad91252a",
   "metadata": {},
   "outputs": [],
   "source": [
    "c = 18"
   ]
  },
  {
   "cell_type": "code",
   "execution_count": 32,
   "id": "c11c4be0",
   "metadata": {},
   "outputs": [
    {
     "data": {
      "text/plain": [
       "True"
      ]
     },
     "execution_count": 32,
     "metadata": {},
     "output_type": "execute_result"
    }
   ],
   "source": [
    "c == 18"
   ]
  },
  {
   "cell_type": "code",
   "execution_count": 33,
   "id": "32e0e1c6",
   "metadata": {},
   "outputs": [
    {
     "data": {
      "text/plain": [
       "False"
      ]
     },
     "execution_count": 33,
     "metadata": {},
     "output_type": "execute_result"
    }
   ],
   "source": [
    "'c' == 18"
   ]
  },
  {
   "cell_type": "code",
   "execution_count": 36,
   "id": "c692b6c9",
   "metadata": {},
   "outputs": [
    {
     "name": "stdout",
     "output_type": "stream",
     "text": [
      "True\n"
     ]
    }
   ],
   "source": [
    "print('Gibbon'==\"Gibbon\")"
   ]
  },
  {
   "cell_type": "code",
   "execution_count": 37,
   "id": "2789e118",
   "metadata": {},
   "outputs": [
    {
     "name": "stdout",
     "output_type": "stream",
     "text": [
      "False\n"
     ]
    }
   ],
   "source": [
    "print(\"Gibbon\"==\"gibbon\")"
   ]
  },
  {
   "cell_type": "code",
   "execution_count": 91,
   "id": "84af3077",
   "metadata": {},
   "outputs": [],
   "source": [
    "historian_list = ['gibbon', 'heroditus','Sun-yat Sen']"
   ]
  },
  {
   "cell_type": "code",
   "execution_count": 42,
   "id": "300027d1",
   "metadata": {},
   "outputs": [
    {
     "name": "stdout",
     "output_type": "stream",
     "text": [
      "True\n"
     ]
    }
   ],
   "source": [
    "print(\"gibbon\" in historian_list)"
   ]
  },
  {
   "cell_type": "code",
   "execution_count": 43,
   "id": "93108dd8",
   "metadata": {},
   "outputs": [
    {
     "name": "stdout",
     "output_type": "stream",
     "text": [
      "False\n"
     ]
    }
   ],
   "source": [
    "print(\"Gibbon\" in historian_list)"
   ]
  },
  {
   "cell_type": "code",
   "execution_count": 44,
   "id": "69c611f0",
   "metadata": {},
   "outputs": [
    {
     "name": "stdout",
     "output_type": "stream",
     "text": [
      "False\n"
     ]
    }
   ],
   "source": [
    "print((\"Gibbon\" or 'gibbon') in historian_list)"
   ]
  },
  {
   "cell_type": "code",
   "execution_count": 88,
   "id": "f092c3f4",
   "metadata": {},
   "outputs": [
    {
     "name": "stdout",
     "output_type": "stream",
     "text": [
      "True\n"
     ]
    }
   ],
   "source": [
    "print(\"Gibbon\" in historian_list or 'gibbon' in historian_list)"
   ]
  },
  {
   "cell_type": "code",
   "execution_count": 92,
   "id": "e73bbc96",
   "metadata": {},
   "outputs": [
    {
     "name": "stdout",
     "output_type": "stream",
     "text": [
      "I found him!\n",
      "0 Gibbons Found\n",
      "0 Gibbons Found\n"
     ]
    }
   ],
   "source": [
    "for historian in historian_list:\n",
    "    if historian == \"Gibbon\" or historian == 'gibbon':\n",
    "        print('I found him!')\n",
    "    else:\n",
    "        print(\"0 Gibbons Found\")"
   ]
  },
  {
   "cell_type": "markdown",
   "id": "a80c86f9",
   "metadata": {},
   "source": [
    "## Conditionals"
   ]
  },
  {
   "cell_type": "code",
   "execution_count": 68,
   "id": "0998cf49",
   "metadata": {},
   "outputs": [],
   "source": [
    "age = 18"
   ]
  },
  {
   "cell_type": "code",
   "execution_count": 77,
   "id": "4eef850d",
   "metadata": {},
   "outputs": [
    {
     "name": "stdout",
     "output_type": "stream",
     "text": [
      "Vote NOW!\n"
     ]
    }
   ],
   "source": [
    "if age > 18:\n",
    "    print(\"Can Vote!\")\n",
    "elif age == 18:\n",
    "    print(\"Vote NOW!\")\n",
    "else:\n",
    "    print(\"Can't Vote!\")"
   ]
  },
  {
   "cell_type": "code",
   "execution_count": 79,
   "id": "094fa300",
   "metadata": {},
   "outputs": [
    {
     "ename": "SyntaxError",
     "evalue": "invalid syntax (1846441126.py, line 5)",
     "output_type": "error",
     "traceback": [
      "  Cell In[79], line 5\n    elif age == 18:\n    ^\nSyntaxError: invalid syntax\n"
     ]
    }
   ],
   "source": [
    "if age > 18:\n",
    "    print(\"Can Vote!\")\n",
    "else:\n",
    "    print(\"Can't Vote!\")\n",
    "elif age == 18:\n",
    "    print(\"Vote NOW!\")"
   ]
  },
  {
   "cell_type": "markdown",
   "id": "7a5fae72",
   "metadata": {},
   "source": [
    "Colon = True, 2nd Line Indented, Blank = False Standard.  When hit true, will finish!!"
   ]
  },
  {
   "cell_type": "code",
   "execution_count": 74,
   "id": "580532f6",
   "metadata": {},
   "outputs": [
    {
     "name": "stdout",
     "output_type": "stream",
     "text": [
      "Hi\n"
     ]
    }
   ],
   "source": [
    "%colors NoColor\n",
    "print(\"Hi\")"
   ]
  },
  {
   "cell_type": "markdown",
   "id": "815d8e5d",
   "metadata": {},
   "source": [
    "## Boolean Operators"
   ]
  },
  {
   "cell_type": "code",
   "execution_count": 85,
   "id": "a0f38ca7",
   "metadata": {},
   "outputs": [
    {
     "data": {
      "text/plain": [
       "True"
      ]
     },
     "execution_count": 85,
     "metadata": {},
     "output_type": "execute_result"
    }
   ],
   "source": [
    "(7!=10) or (7>10)"
   ]
  },
  {
   "cell_type": "code",
   "execution_count": null,
   "id": "9a22b21d",
   "metadata": {},
   "outputs": [],
   "source": []
  }
 ],
 "metadata": {
  "kernelspec": {
   "display_name": "Python 3 (ipykernel)",
   "language": "python",
   "name": "python3"
  },
  "language_info": {
   "codemirror_mode": {
    "name": "ipython",
    "version": 3
   },
   "file_extension": ".py",
   "mimetype": "text/x-python",
   "name": "python",
   "nbconvert_exporter": "python",
   "pygments_lexer": "ipython3",
   "version": "3.11.4"
  }
 },
 "nbformat": 4,
 "nbformat_minor": 5
}
