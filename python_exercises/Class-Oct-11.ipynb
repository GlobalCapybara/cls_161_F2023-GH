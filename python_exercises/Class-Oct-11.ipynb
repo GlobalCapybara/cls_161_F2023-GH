{
 "cells": [
  {
   "cell_type": "markdown",
   "id": "192dd5c8",
   "metadata": {},
   "source": [
    "# Class, October 11th"
   ]
  },
  {
   "cell_type": "markdown",
   "id": "08453dae",
   "metadata": {},
   "source": [
    "# Functions"
   ]
  },
  {
   "cell_type": "code",
   "execution_count": 1,
   "id": "3fe8a198",
   "metadata": {},
   "outputs": [],
   "source": [
    "# Basic Syntax/Example\n",
    "def say_hello(): # Short for define/define a function / Name well!\n",
    "    \"\"\"Display a greeting\"\"\" # It says hello to ppl\n",
    "    print(\"Hello.\")"
   ]
  },
  {
   "cell_type": "code",
   "execution_count": 3,
   "id": "014e2707",
   "metadata": {},
   "outputs": [
    {
     "name": "stdout",
     "output_type": "stream",
     "text": [
      "Hello.\n"
     ]
    }
   ],
   "source": [
    "say_hello()"
   ]
  },
  {
   "cell_type": "code",
   "execution_count": 4,
   "id": "0120b6f8",
   "metadata": {},
   "outputs": [],
   "source": [
    "def name_say_hello(name): #def funcname(variable)\n",
    "    \"\"\"Greet by name\"\"\"\n",
    "    print(f\"Hello, {name}!\")"
   ]
  },
  {
   "cell_type": "code",
   "execution_count": 8,
   "id": "5fea3df0",
   "metadata": {},
   "outputs": [
    {
     "name": "stdout",
     "output_type": "stream",
     "text": [
      "Hello, Micah!\n"
     ]
    }
   ],
   "source": [
    "name_say_hello(\"Micah\")"
   ]
  },
  {
   "cell_type": "code",
   "execution_count": 10,
   "id": "2d6aabb0",
   "metadata": {},
   "outputs": [
    {
     "ename": "TypeError",
     "evalue": "name_say_hello() missing 1 required positional argument: 'name'",
     "output_type": "error",
     "traceback": [
      "\u001b[1;31m---------------------------------------------------------------------------\u001b[0m",
      "\u001b[1;31mTypeError\u001b[0m                                 Traceback (most recent call last)",
      "Cell \u001b[1;32mIn[10], line 1\u001b[0m\n\u001b[1;32m----> 1\u001b[0m name_say_hello()\n",
      "\u001b[1;31mTypeError\u001b[0m: name_say_hello() missing 1 required positional argument: 'name'"
     ]
    }
   ],
   "source": [
    "name_say_hello()"
   ]
  },
  {
   "cell_type": "code",
   "execution_count": 11,
   "id": "d66f8d58",
   "metadata": {},
   "outputs": [],
   "source": [
    "list_name = [\"Daniel\", \"Nathan\", \"Aaron\"] # Brother Names"
   ]
  },
  {
   "cell_type": "code",
   "execution_count": 12,
   "id": "5f7698e3",
   "metadata": {},
   "outputs": [
    {
     "name": "stdout",
     "output_type": "stream",
     "text": [
      "Hello, Daniel!\n",
      "Hello, Nathan!\n",
      "Hello, Aaron!\n"
     ]
    }
   ],
   "source": [
    "for name in list_name:\n",
    "    name_say_hello(name)"
   ]
  },
  {
   "cell_type": "code",
   "execution_count": 17,
   "id": "ce5836cb",
   "metadata": {},
   "outputs": [],
   "source": [
    "def describe_author(name, genre):\n",
    "    \"\"\"describe author by genre\"\"\"\n",
    "    print(f\"{name.title()} writes {genre}.\")"
   ]
  },
  {
   "cell_type": "code",
   "execution_count": 18,
   "id": "b5bb970d",
   "metadata": {},
   "outputs": [
    {
     "name": "stdout",
     "output_type": "stream",
     "text": [
      "Judith Butler writes Gender Theory.\n"
     ]
    }
   ],
   "source": [
    "describe_author(\"Judith Butler\", \"Gender Theory\") # Gibbon Counter UP!"
   ]
  },
  {
   "cell_type": "code",
   "execution_count": 21,
   "id": "b66c108d",
   "metadata": {},
   "outputs": [],
   "source": [
    "def format_name(first_name, last_name):\n",
    "    full_name = f\"{first_name.title()} {last_name.title()}\"\n",
    "    return full_name"
   ]
  },
  {
   "cell_type": "code",
   "execution_count": 23,
   "id": "99001b9b",
   "metadata": {},
   "outputs": [
    {
     "data": {
      "text/plain": [
       "'Judith Butler'"
      ]
     },
     "execution_count": 23,
     "metadata": {},
     "output_type": "execute_result"
    }
   ],
   "source": [
    "format_name(\"Judith\",\"Butler\")"
   ]
  },
  {
   "cell_type": "code",
   "execution_count": 28,
   "id": "69ce8cf4",
   "metadata": {},
   "outputs": [],
   "source": [
    "philosopher = format_name(first_name=\"Friedrich\", last_name=\"Nietzsche\")"
   ]
  },
  {
   "cell_type": "code",
   "execution_count": 29,
   "id": "1216bb14",
   "metadata": {},
   "outputs": [
    {
     "data": {
      "text/plain": [
       "'Friedrich Nietzsche'"
      ]
     },
     "execution_count": 29,
     "metadata": {},
     "output_type": "execute_result"
    }
   ],
   "source": [
    "philosopher"
   ]
  },
  {
   "cell_type": "code",
   "execution_count": null,
   "id": "d28ce74f",
   "metadata": {},
   "outputs": [],
   "source": []
  }
 ],
 "metadata": {
  "kernelspec": {
   "display_name": "Python 3 (ipykernel)",
   "language": "python",
   "name": "python3"
  },
  "language_info": {
   "codemirror_mode": {
    "name": "ipython",
    "version": 3
   },
   "file_extension": ".py",
   "mimetype": "text/x-python",
   "name": "python",
   "nbconvert_exporter": "python",
   "pygments_lexer": "ipython3",
   "version": "3.11.4"
  }
 },
 "nbformat": 4,
 "nbformat_minor": 5
}
