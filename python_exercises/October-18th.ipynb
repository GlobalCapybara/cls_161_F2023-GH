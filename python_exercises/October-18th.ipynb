{
 "cells": [
  {
   "cell_type": "markdown",
   "id": "d303396f",
   "metadata": {},
   "source": [
    "# Class October 18th"
   ]
  },
  {
   "cell_type": "markdown",
   "id": "fc930fbf",
   "metadata": {},
   "source": [
    "Voyant.org? / Look into"
   ]
  },
  {
   "cell_type": "markdown",
   "id": "26f51d4c",
   "metadata": {},
   "source": [
    "## Natural Language Processing"
   ]
  },
  {
   "cell_type": "markdown",
   "id": "1f2ea2c5",
   "metadata": {},
   "source": [
    "Natural Language - Not Designed\n",
    "\n",
    "Contrast with Artificial Language / Deliberately Constructed Language\n",
    "\n",
    "Artificial Language = Python / {Esperanto???}\n",
    "\n",
    "Extract & Interpret Meaning from Text -Meanigful Patterns"
   ]
  },
  {
   "cell_type": "markdown",
   "id": "32a1f061",
   "metadata": {},
   "source": [
    "### Token"
   ]
  },
  {
   "cell_type": "markdown",
   "id": "c1ae68a8",
   "metadata": {},
   "source": [
    "cat,Cat,cats,cat's,cats',\n",
    "(M's cat's name is Cat :) )\n",
    "Individual instances"
   ]
  },
  {
   "cell_type": "markdown",
   "id": "dee6bd2c",
   "metadata": {},
   "source": [
    "Tokenise = Turn into list of tokens, splitting\n",
    "Stop word Remove"
   ]
  },
  {
   "cell_type": "markdown",
   "id": "e67f9708",
   "metadata": {},
   "source": [
    "### Lemma"
   ]
  },
  {
   "cell_type": "markdown",
   "id": "f1b66df9",
   "metadata": {},
   "source": [
    "~Dictionary form~~ = cat"
   ]
  },
  {
   "cell_type": "markdown",
   "id": "97e88c2c",
   "metadata": {},
   "source": [
    "# Spacy is block of code for natural language processing / also NLTK natural language toolkit / stanza - ancient languages specialisation"
   ]
  },
  {
   "cell_type": "markdown",
   "id": "d9fb9cc6",
   "metadata": {},
   "source": [
    "___________________________________________________________________________________________________________________________\n",
    "# Analysis of Gibbon - TFIDF: Part 2:\n",
    "#### Find Which Terms Are Most Important\n",
    "## Term Frequency - Very Long Works\n",
    "#### Could do for all history books of era\n",
    "## Nunpy = Background & Math & Etc, May need to install anyway"
   ]
  },
  {
   "cell_type": "code",
   "execution_count": null,
   "id": "cad0b1aa",
   "metadata": {},
   "outputs": [],
   "source": []
  }
 ],
 "metadata": {
  "kernelspec": {
   "display_name": "Python 3 (ipykernel)",
   "language": "python",
   "name": "python3"
  },
  "language_info": {
   "codemirror_mode": {
    "name": "ipython",
    "version": 3
   },
   "file_extension": ".py",
   "mimetype": "text/x-python",
   "name": "python",
   "nbconvert_exporter": "python",
   "pygments_lexer": "ipython3",
   "version": "3.11.4"
  }
 },
 "nbformat": 4,
 "nbformat_minor": 5
}
