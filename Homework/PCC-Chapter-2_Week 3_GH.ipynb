{
 "cells": [
  {
   "cell_type": "markdown",
   "id": "81a65fc7",
   "metadata": {},
   "source": [
    "# Python Crash Course Chapter 2 -GIT add/commit-m/push"
   ]
  },
  {
   "cell_type": "markdown",
   "id": "d8ab4ac8",
   "metadata": {},
   "source": [
    "## 2-1"
   ]
  },
  {
   "cell_type": "code",
   "execution_count": 1,
   "id": "64a52dee",
   "metadata": {},
   "outputs": [
    {
     "name": "stdout",
     "output_type": "stream",
     "text": [
      "Test 1\n"
     ]
    }
   ],
   "source": [
    "message = \"Test 1\"\n",
    "print(message)"
   ]
  },
  {
   "cell_type": "markdown",
   "id": "9948f889",
   "metadata": {},
   "source": [
    "## 2-2"
   ]
  },
  {
   "cell_type": "code",
   "execution_count": null,
   "id": "55cb53e9",
   "metadata": {},
   "outputs": [],
   "source": []
  }
 ],
 "metadata": {
  "kernelspec": {
   "display_name": "Python 3 (ipykernel)",
   "language": "python",
   "name": "python3"
  },
  "language_info": {
   "codemirror_mode": {
    "name": "ipython",
    "version": 3
   },
   "file_extension": ".py",
   "mimetype": "text/x-python",
   "name": "python",
   "nbconvert_exporter": "python",
   "pygments_lexer": "ipython3",
   "version": "3.11.4"
  }
 },
 "nbformat": 4,
 "nbformat_minor": 5
}
