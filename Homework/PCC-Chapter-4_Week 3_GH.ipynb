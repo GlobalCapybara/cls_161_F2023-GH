{
 "cells": [
  {
   "cell_type": "markdown",
   "id": "b5cd1c28",
   "metadata": {},
   "source": [
    "# Python Crash Course Chapter 4 -GIT add/commit-m/push"
   ]
  },
  {
   "cell_type": "markdown",
   "id": "a547c295",
   "metadata": {},
   "source": [
    "## 4-1"
   ]
  },
  {
   "cell_type": "code",
   "execution_count": 24,
   "id": "f737af82",
   "metadata": {},
   "outputs": [
    {
     "name": "stdout",
     "output_type": "stream",
     "text": [
      "Fungi is the best\n",
      "Caprese is the best\n",
      "Margherita is the best\n",
      "Pizza's okay, I guess\n"
     ]
    }
   ],
   "source": [
    "pizza_names = ['Fungi','Caprese','Margherita']\n",
    "for pizza in pizza_names:\n",
    "    print(pizza + \" is the best\")\n",
    "print(\"Pizza's okay, I guess\")"
   ]
  },
  {
   "cell_type": "markdown",
   "id": "a6b9bc74",
   "metadata": {},
   "source": [
    "## 4-2"
   ]
  },
  {
   "cell_type": "code",
   "execution_count": 13,
   "id": "d9fb2d21",
   "metadata": {},
   "outputs": [
    {
     "name": "stdout",
     "output_type": "stream",
     "text": [
      "Oh no a Jaguar is going to eat me!\n",
      "Oh no a Leopard is going to eat me!\n",
      "Oh no a Tiger is going to eat me!\n",
      "They're all going to eat me--and are cats.\n"
     ]
    }
   ],
   "source": [
    "animals = ['Jaguar','Leopard','Tiger']\n",
    "for animal in animals:\n",
    "    print(\"Oh no a \"+animal+\" is going to eat me!\")\n",
    "print(\"They're all going to eat me--and are cats.\")"
   ]
  },
  {
   "cell_type": "markdown",
   "id": "2f898ed3",
   "metadata": {},
   "source": [
    "## 4-3"
   ]
  },
  {
   "cell_type": "code",
   "execution_count": 16,
   "id": "a4dcb6cd",
   "metadata": {},
   "outputs": [
    {
     "name": "stdout",
     "output_type": "stream",
     "text": [
      "1\n",
      "2\n",
      "3\n",
      "4\n",
      "5\n",
      "6\n",
      "7\n",
      "8\n",
      "9\n",
      "10\n",
      "11\n",
      "12\n",
      "13\n",
      "14\n",
      "15\n",
      "16\n",
      "17\n",
      "18\n",
      "19\n",
      "20\n"
     ]
    }
   ],
   "source": [
    "for value in range(1,21):\n",
    "    print(value)"
   ]
  },
  {
   "cell_type": "markdown",
   "id": "5d7eb6e9",
   "metadata": {},
   "source": [
    "## 4-6"
   ]
  },
  {
   "cell_type": "code",
   "execution_count": 18,
   "id": "2aa41dd1",
   "metadata": {},
   "outputs": [
    {
     "name": "stdout",
     "output_type": "stream",
     "text": [
      "1\n",
      "3\n",
      "5\n",
      "7\n",
      "9\n",
      "11\n",
      "13\n",
      "15\n",
      "17\n",
      "19\n"
     ]
    }
   ],
   "source": [
    "for value in range(1,20,2):\n",
    "    print(value)"
   ]
  },
  {
   "cell_type": "markdown",
   "id": "380fbd61",
   "metadata": {},
   "source": [
    "## 4-10"
   ]
  },
  {
   "cell_type": "code",
   "execution_count": 34,
   "id": "24170f21",
   "metadata": {
    "scrolled": true
   },
   "outputs": [
    {
     "name": "stdout",
     "output_type": "stream",
     "text": [
      "['Jaguar', 'Leopard', 'Tiger', 'Lion', 'Lynx', 'Ocelot']\n",
      "The first three items of this list are: \n",
      "['Jaguar', 'Leopard', 'Tiger']\n",
      "Three items from the middle of the list are: \n",
      "['Leopard', 'Tiger', 'Lion']\n",
      "The last three items in the list are: \n",
      "['Lion', 'Lynx', 'Ocelot']\n"
     ]
    }
   ],
   "source": [
    "pizza_animal = ['Jaguar', 'Leopard', 'Tiger','Lion','Lynx','Ocelot']\n",
    "print(pizza_animal)\n",
    "print('The first three items of this list are: ') \n",
    "print(pizza_animal[:3])\n",
    "print('Three items from the middle of the list are: ') \n",
    "print(pizza_animal[1:4])\n",
    "print('The last three items in the list are: ')\n",
    "print(pizza_animal[-3:])"
   ]
  },
  {
   "cell_type": "markdown",
   "id": "acf2eb00",
   "metadata": {},
   "source": [
    "## 4-11"
   ]
  },
  {
   "cell_type": "code",
   "execution_count": 39,
   "id": "86907591",
   "metadata": {},
   "outputs": [
    {
     "name": "stdout",
     "output_type": "stream",
     "text": [
      "My favourite pizzas are:\n",
      "Fungi\n",
      "Caprese\n",
      "Margherita\n",
      "Tikka Malsala\n",
      "\n",
      "My friend's favourite pizzas are:\n",
      "Fungi\n",
      "Caprese\n",
      "Margherita\n",
      "Pesto\n"
     ]
    }
   ],
   "source": [
    "pizza_names = ['Fungi','Caprese','Margherita']\n",
    "friend_pizzas = pizza_names[:]\n",
    "pizza_names.append('Tikka Malsala')\n",
    "friend_pizzas.append('Pesto')\n",
    "print('My favourite pizzas are:')\n",
    "for pizza in pizza_names:\n",
    "    print(pizza)\n",
    "print(\"\\nMy friend's favourite pizzas are:\")\n",
    "for friend in friend_pizzas:\n",
    "    print(friend)"
   ]
  },
  {
   "cell_type": "code",
   "execution_count": null,
   "id": "72f575d6",
   "metadata": {},
   "outputs": [],
   "source": []
  }
 ],
 "metadata": {
  "kernelspec": {
   "display_name": "Python 3 (ipykernel)",
   "language": "python",
   "name": "python3"
  },
  "language_info": {
   "codemirror_mode": {
    "name": "ipython",
    "version": 3
   },
   "file_extension": ".py",
   "mimetype": "text/x-python",
   "name": "python",
   "nbconvert_exporter": "python",
   "pygments_lexer": "ipython3",
   "version": "3.11.4"
  }
 },
 "nbformat": 4,
 "nbformat_minor": 5
}
