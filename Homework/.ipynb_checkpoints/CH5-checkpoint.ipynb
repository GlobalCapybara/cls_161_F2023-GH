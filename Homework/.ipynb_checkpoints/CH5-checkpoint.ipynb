{
 "cells": [
  {
   "cell_type": "markdown",
   "id": "46dc6380",
   "metadata": {},
   "source": [
    "# 5-1, 5-2, 5-6, 5-7, 5-8, 5-9, 5-10"
   ]
  },
  {
   "cell_type": "markdown",
   "id": "93e012c2",
   "metadata": {},
   "source": [
    "## 5-1 & 5-2"
   ]
  },
  {
   "cell_type": "code",
   "execution_count": 4,
   "id": "0ecd3190",
   "metadata": {
    "collapsed": true
   },
   "outputs": [
    {
     "name": "stdout",
     "output_type": "stream",
     "text": [
      "False\n",
      "True\n",
      "False\n",
      "True\n",
      "True\n",
      "False\n",
      "True\n",
      "False\n",
      "True\n",
      "True\n",
      "False\n",
      "True\n",
      "False\n"
     ]
    }
   ],
   "source": [
    "food = 'soup'\n",
    "print(food != 'soup') #False\n",
    "print(food == 'soup')\n",
    "print('Soup' == 'soup')\n",
    "print(f'Soup'.lower() == 'soup')\n",
    "print(7 == 7)\n",
    "print(7 != 7)\n",
    "print(7 <= 10)\n",
    "print(7 >= 10)\n",
    "print(15 >= 11)\n",
    "a = 12\n",
    "b = 42\n",
    "print(a >= 30 or b >= 30)\n",
    "print(a >= 30 and b >= 30)\n",
    "letter_list = [a, b]\n",
    "print(a in letter_list)\n",
    "print(a not in letter_list)"
   ]
  },
  {
   "cell_type": "markdown",
   "id": "25695e2b",
   "metadata": {},
   "source": [
    "## 5-6"
   ]
  },
  {
   "cell_type": "code",
   "execution_count": 1,
   "id": "5b9a8e63",
   "metadata": {},
   "outputs": [
    {
     "name": "stdout",
     "output_type": "stream",
     "text": [
      "Person is Elder!\n"
     ]
    }
   ],
   "source": [
    "age = 142\n",
    "if age < 2:\n",
    "    print(\"Person is Baby!\")\n",
    "elif age >= 2 and age < 4:\n",
    "    print(\"Person is Toddler!\")\n",
    "elif age >= 4 and age < 13:\n",
    "    print(\"Person is Kid!\")\n",
    "elif age >= 13 and age < 20:\n",
    "    print(\"Person is Teenager!\")\n",
    "elif age >= 20 and age < 65:\n",
    "    print(\"Person is Adult!\")\n",
    "elif age >= 65:\n",
    "    print(\"Person is Elder!\")"
   ]
  },
  {
   "cell_type": "code",
   "execution_count": 2,
   "id": "52189064",
   "metadata": {},
   "outputs": [
    {
     "name": "stdout",
     "output_type": "stream",
     "text": [
      "Person is Adult!\n"
     ]
    }
   ],
   "source": [
    "age = 23\n",
    "if age < 2:\n",
    "    print(\"Person is Baby!\")\n",
    "elif age >= 2 and age < 4:\n",
    "    print(\"Person is Toddler!\")\n",
    "elif age >= 4 and age < 13:\n",
    "    print(\"Person is Kid!\")\n",
    "elif age >= 13 and age < 20:\n",
    "    print(\"Person is Teenager!\")\n",
    "elif age >= 20 and age < 65:\n",
    "    print(\"Person is Adult!\")\n",
    "elif age >= 65:\n",
    "    print(\"Person is Elder!\")"
   ]
  },
  {
   "cell_type": "markdown",
   "id": "df8e6542",
   "metadata": {},
   "source": [
    "## 5-7"
   ]
  },
  {
   "cell_type": "code",
   "execution_count": 5,
   "id": "82d5ea44",
   "metadata": {},
   "outputs": [
    {
     "name": "stdout",
     "output_type": "stream",
     "text": [
      "Bananas are amazing!\n",
      "You hate strawberries!\n",
      "Apples -- they exist.\n",
      "Now in pearing mode.\n",
      "But I don't have any in my basket!\n"
     ]
    }
   ],
   "source": [
    "favourite_fruits = ['banana','apple','acorn','pear']\n",
    "if 'banana' in favourite_fruits:\n",
    "    print(\"Bananas are amazing!\")\n",
    "if 'strawberry' in favourite_fruits:\n",
    "    print('Strawberries are great!')\n",
    "else:\n",
    "        print(\"You hate strawberries!\")\n",
    "if 'apple' in favourite_fruits:\n",
    "    print(\"Apples -- they exist.\")\n",
    "if 'pear' in favourite_fruits:\n",
    "    print('Now in pearing mode.')\n",
    "if 'cherry' in favourite_fruits:\n",
    "    print(\"Cherries are fantastic!\")\n",
    "else:\n",
    "        print(\"But I don't have any in my basket!\")\n",
    "    \n",
    "        "
   ]
  },
  {
   "cell_type": "markdown",
   "id": "bc7b1ce5",
   "metadata": {},
   "source": [
    "## 5-8"
   ]
  },
  {
   "cell_type": "code",
   "execution_count": 11,
   "id": "ff65113a",
   "metadata": {},
   "outputs": [
    {
     "name": "stdout",
     "output_type": "stream",
     "text": [
      "Greetings, admin.  Welcome to your world.\n",
      "Hey Quirky_Duck! Ready for another great day on the world wide web?\n",
      "Hey xxx_Shadow_darkensss_xxx! Ready for another great day on the world wide web?\n",
      "Hey anon! Ready for another great day on the world wide web?\n",
      "Hey sirsmoothie! Ready for another great day on the world wide web?\n"
     ]
    }
   ],
   "source": [
    "usernames = ['admin','Quirky_Duck','xxx_Shadow_darkensss_xxx','anon','sirsmoothie']\n",
    "for username in usernames:\n",
    "    if username == 'admin':\n",
    "        print('Greetings, admin.  Welcome to your world.')\n",
    "    else:\n",
    "        print('Hey ' + username + '!' + ' Ready for another great day on the world wide web?')\n",
    "        "
   ]
  },
  {
   "cell_type": "markdown",
   "id": "9bb004b0",
   "metadata": {},
   "source": [
    "## 5-9"
   ]
  },
  {
   "cell_type": "code",
   "execution_count": 18,
   "id": "48d10ad8",
   "metadata": {},
   "outputs": [],
   "source": [
    "Iterative_usernames = list(usernames)\n",
    "for username in Iterative_usernames:\n",
    "    usernames.remove(username)"
   ]
  },
  {
   "cell_type": "code",
   "execution_count": 22,
   "id": "0fdc5548",
   "metadata": {},
   "outputs": [
    {
     "name": "stdout",
     "output_type": "stream",
     "text": [
      "We need more users--and fast!\n"
     ]
    }
   ],
   "source": [
    "if usernames:\n",
    "    for username in usernames:\n",
    "        if username == 'admin':\n",
    "            print('Greetings, admin.  Welcome to your world.')\n",
    "        else:\n",
    "            print('Hey ' + username + '!' + ' Ready for another great day on the world wide web?')\n",
    "else:\n",
    "    print(\"We need more users--and fast!\")\n"
   ]
  },
  {
   "cell_type": "markdown",
   "id": "4fe4eba1",
   "metadata": {},
   "source": [
    "## 5-10"
   ]
  },
  {
   "cell_type": "code",
   "execution_count": 28,
   "id": "07aa38a4",
   "metadata": {},
   "outputs": [
    {
     "name": "stdout",
     "output_type": "stream",
     "text": [
      "Alright, epicflamingswordman2321! You're in!\n",
      "Alright, redrabbit! You're in!\n",
      "Sorry, anon that username is unavailable.  Please change your username and try again soon.\n",
      "Sorry, quirky_duck that username is unavailable.  Please change your username and try again soon.\n",
      "Alright, whyamihere! You're in!\n"
     ]
    }
   ],
   "source": [
    "current_users = ['admin','Quirky_Duck','xxx_Shadow_darkensss_xxx','anon','sirsmoothie']\n",
    "new_users = ['epicflamingswordman2321','redrabbit','anon','quirky_duck','whyamIhere']\n",
    "cul = [cu.lower() for cu in current_users] # Googled, but it makes sense though there must be a better way?\n",
    "nul = [nu.lower() for nu in new_users]\n",
    "for nuser in nul:\n",
    "    if nuser in cul:\n",
    "        print(\"Sorry, \" + nuser + \" that username is unavailable.  Please change your username and try again soon.\")\n",
    "    else:\n",
    "        print(\"Alright, \"+nuser+\"!\"+\" You're in!\")"
   ]
  },
  {
   "cell_type": "code",
   "execution_count": null,
   "id": "031c6574",
   "metadata": {},
   "outputs": [],
   "source": []
  }
 ],
 "metadata": {
  "kernelspec": {
   "display_name": "Python 3 (ipykernel)",
   "language": "python",
   "name": "python3"
  },
  "language_info": {
   "codemirror_mode": {
    "name": "ipython",
    "version": 3
   },
   "file_extension": ".py",
   "mimetype": "text/x-python",
   "name": "python",
   "nbconvert_exporter": "python",
   "pygments_lexer": "ipython3",
   "version": "3.11.4"
  }
 },
 "nbformat": 4,
 "nbformat_minor": 5
}
