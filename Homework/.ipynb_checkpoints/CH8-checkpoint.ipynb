{
 "cells": [
  {
   "cell_type": "markdown",
   "id": "d766f163",
   "metadata": {},
   "source": [
    "# 8-1, 8-2, 8-3, 8-5, 8-6, 8-7"
   ]
  },
  {
   "cell_type": "markdown",
   "id": "5b68d5a8",
   "metadata": {},
   "source": [
    "## 8-1"
   ]
  },
  {
   "cell_type": "code",
   "execution_count": 2,
   "id": "4ea96a1d",
   "metadata": {},
   "outputs": [
    {
     "name": "stdout",
     "output_type": "stream",
     "text": [
      "This chapter is about functions!\n"
     ]
    }
   ],
   "source": [
    "def display_message():\n",
    "    \"\"\"Generic Greeting\"\"\"\n",
    "    print(\"This chapter is about functions!\")\n",
    "display_message()"
   ]
  },
  {
   "cell_type": "markdown",
   "id": "bbcddc0f",
   "metadata": {},
   "source": [
    "## 8-2"
   ]
  },
  {
   "cell_type": "code",
   "execution_count": 3,
   "id": "01dd9925",
   "metadata": {},
   "outputs": [],
   "source": [
    "def favourite_book(title):\n",
    "    \"\"\"Book return\"\"\"\n",
    "    print(f'One of my favourite books is {title}!')"
   ]
  },
  {
   "cell_type": "code",
   "execution_count": 4,
   "id": "0d524686",
   "metadata": {},
   "outputs": [
    {
     "name": "stdout",
     "output_type": "stream",
     "text": [
      "One of my favourite books is Way of Kings!\n"
     ]
    }
   ],
   "source": [
    "favourite_book(\"Way of Kings\")"
   ]
  },
  {
   "cell_type": "markdown",
   "id": "9c46a1ed",
   "metadata": {},
   "source": [
    "## 8-3"
   ]
  },
  {
   "cell_type": "code",
   "execution_count": 17,
   "id": "3ff51ab5",
   "metadata": {},
   "outputs": [
    {
     "name": "stdout",
     "output_type": "stream",
     "text": [
      "The shirt is a Small and says \"Hello World\"\n",
      "The shirt is a Small and says \"Hello World\"\n"
     ]
    }
   ],
   "source": [
    "def make_shirt(size, text):\n",
    "    print(f'The shirt is a {size} and says \"{text}\"')\n",
    "make_shirt('Small','Hello World')\n",
    "make_shirt(text='Hello World', size='Small')"
   ]
  },
  {
   "cell_type": "markdown",
   "id": "f6674d6f",
   "metadata": {},
   "source": [
    "## 8-5"
   ]
  },
  {
   "cell_type": "code",
   "execution_count": 21,
   "id": "22ee005f",
   "metadata": {},
   "outputs": [
    {
     "name": "stdout",
     "output_type": "stream",
     "text": [
      "Nagoya is in Japan\n",
      "Shinjuku is in Japan\n",
      "Vaasa is in Finland\n"
     ]
    }
   ],
   "source": [
    "def describe_city(city, country='Japan'):\n",
    "    print(f'{city} is in {country}')\n",
    "describe_city('Nagoya')\n",
    "describe_city('Shinjuku')\n",
    "describe_city('Vaasa',country='Finland')"
   ]
  },
  {
   "cell_type": "markdown",
   "id": "935f2815",
   "metadata": {},
   "source": [
    "## 8-6"
   ]
  },
  {
   "cell_type": "code",
   "execution_count": 31,
   "id": "a9aa3ace",
   "metadata": {},
   "outputs": [
    {
     "name": "stdout",
     "output_type": "stream",
     "text": [
      "\"Brussels, Belgium\"\n",
      "\"Bergen, Norway\"\n",
      "\"Constantinople, Byzantium\"\n"
     ]
    }
   ],
   "source": [
    "def city_country(city, country):\n",
    "    city_string = f'\"{city}, {country}\"'\n",
    "    return city_string.title()\n",
    "place = city_country('brussels','belgium')\n",
    "print(place)\n",
    "place = city_country('bergen','norway')\n",
    "print(place)\n",
    "place = city_country('constantinople','byzantium')\n",
    "print(place)"
   ]
  },
  {
   "cell_type": "markdown",
   "id": "c2414ae7",
   "metadata": {},
   "source": [
    "## 8-7"
   ]
  },
  {
   "cell_type": "code",
   "execution_count": 37,
   "id": "894e7997",
   "metadata": {},
   "outputs": [
    {
     "name": "stdout",
     "output_type": "stream",
     "text": [
      "{'artist': '澤野弘之', 'album_name': 'Kingdom'}\n",
      "{'artist': 'Aliceband', 'album_name': 'AlicebanD'}\n",
      "{'artist': '梶浦由記', 'album_name': 'Puella Magi Madoka Magica'}\n"
     ]
    }
   ],
   "source": [
    "def make_album(artist, album_name):\n",
    "    album = {'artist': artist, 'album_name': album_name}\n",
    "    return album\n",
    "disc_1 = make_album('澤野弘之','Kingdom')\n",
    "print(disc_1)\n",
    "disc_2 = make_album('Aliceband','AlicebanD') #Actual Name, No typo\n",
    "print(disc_2)\n",
    "disc_3 = make_album('梶浦由記','Puella Magi Madoka Magica')\n",
    "print(disc_3)"
   ]
  }
 ],
 "metadata": {
  "kernelspec": {
   "display_name": "Python 3 (ipykernel)",
   "language": "python",
   "name": "python3"
  },
  "language_info": {
   "codemirror_mode": {
    "name": "ipython",
    "version": 3
   },
   "file_extension": ".py",
   "mimetype": "text/x-python",
   "name": "python",
   "nbconvert_exporter": "python",
   "pygments_lexer": "ipython3",
   "version": "3.11.4"
  }
 },
 "nbformat": 4,
 "nbformat_minor": 5
}
