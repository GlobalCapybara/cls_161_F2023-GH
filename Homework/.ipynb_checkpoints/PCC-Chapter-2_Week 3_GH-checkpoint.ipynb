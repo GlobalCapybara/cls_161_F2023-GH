{
 "cells": [
  {
   "cell_type": "markdown",
   "id": "81a65fc7",
   "metadata": {},
   "source": [
    "# Python Crash Course Chapter 2 -GIT add/commit-m/push"
   ]
  },
  {
   "cell_type": "markdown",
   "id": "d8ab4ac8",
   "metadata": {},
   "source": [
    "## 2-1"
   ]
  },
  {
   "cell_type": "code",
   "execution_count": 1,
   "id": "64a52dee",
   "metadata": {},
   "outputs": [
    {
     "name": "stdout",
     "output_type": "stream",
     "text": [
      "Test 1\n"
     ]
    }
   ],
   "source": [
    "message = \"Test 1\"\n",
    "print(message)"
   ]
  },
  {
   "cell_type": "markdown",
   "id": "9948f889",
   "metadata": {},
   "source": [
    "## 2-2"
   ]
  },
  {
   "cell_type": "code",
   "execution_count": 1,
   "id": "55cb53e9",
   "metadata": {},
   "outputs": [
    {
     "name": "stdout",
     "output_type": "stream",
     "text": [
      "The Past\n"
     ]
    }
   ],
   "source": [
    "message = \"The Past\"\n",
    "print(message)"
   ]
  },
  {
   "cell_type": "code",
   "execution_count": 2,
   "id": "2f910f43",
   "metadata": {},
   "outputs": [
    {
     "name": "stdout",
     "output_type": "stream",
     "text": [
      "The Present\n"
     ]
    }
   ],
   "source": [
    "message = \"The Present\"\n",
    "print(message)"
   ]
  },
  {
   "cell_type": "markdown",
   "id": "f1c4cbd9",
   "metadata": {},
   "source": [
    "## 2-3"
   ]
  },
  {
   "cell_type": "code",
   "execution_count": 3,
   "id": "1e70f6be",
   "metadata": {},
   "outputs": [
    {
     "name": "stdout",
     "output_type": "stream",
     "text": [
      "Hey Micah/Julia!  How's your day?\n"
     ]
    }
   ],
   "source": [
    "name = \"Hey Micah/Julia!  How's your day?\"\n",
    "print(name)"
   ]
  },
  {
   "cell_type": "markdown",
   "id": "c638ef49",
   "metadata": {},
   "source": [
    "## 2-4"
   ]
  },
  {
   "cell_type": "code",
   "execution_count": 1,
   "id": "a33cf3e7",
   "metadata": {},
   "outputs": [
    {
     "name": "stdout",
     "output_type": "stream",
     "text": [
      "Kirino Natsuo\n",
      "KIRINO NATSUO\n",
      "kirino natsuo\n"
     ]
    }
   ],
   "source": [
    "casename = \"Kirino Natsuo\" # Suddenly I have forgotten literally every name ever\n",
    "print(casename.title())\n",
    "print(casename.upper())\n",
    "print(casename.lower())"
   ]
  },
  {
   "cell_type": "markdown",
   "id": "6e739cf7",
   "metadata": {},
   "source": [
    "## 2-5"
   ]
  },
  {
   "cell_type": "code",
   "execution_count": 2,
   "id": "2914784e",
   "metadata": {},
   "outputs": [
    {
     "name": "stdout",
     "output_type": "stream",
     "text": [
      "In Brandon Sanderson's \u001b[4mWay of Kings\u001b[0m, one of my favourite quotes is, \"A man stood on a clifside and watched his homeland fall into dust.  The waters surged beneath, so far beneath.  And he heard a child crying.  They were his own tears\"(53).\n"
     ]
    }
   ],
   "source": [
    "print(\"In Brandon Sanderson's \" +  \"\\x1B[4mWay of Kings\" + '\\x1B[0m, one of my favourite quotes is, \"A man stood on a clifside and watched his homeland fall into dust.  The waters surged beneath, so far beneath.  And he heard a child crying.  They were his own tears\"(53).')"
   ]
  },
  {
   "cell_type": "markdown",
   "id": "ff427658",
   "metadata": {},
   "source": [
    "## 2-6"
   ]
  },
  {
   "cell_type": "code",
   "execution_count": 3,
   "id": "5bbf0e27",
   "metadata": {},
   "outputs": [
    {
     "name": "stdout",
     "output_type": "stream",
     "text": [
      "In Brandon Sanderson's \u001b[4mWay of Kings\u001b[0m, one of my favourite quotes is, \"A man stood on a clifside and watched his homeland fall into dust.  The waters surged beneath, so far beneath.  And he heard a child crying.  They were his own tears\" (53).\n"
     ]
    }
   ],
   "source": [
    "author = \"Brandon Sanderson\"\n",
    "quote = '\"A man stood on a clifside and watched his homeland fall into dust.  The waters surged beneath, so far beneath.  And he heard a child crying.  They were his own tears\"'\n",
    "print(\"In \" + author + \"'s \" + \"\\x1B[4mWay of Kings\" + '\\x1B[0m, one of my favourite quotes is, ' + quote + \" (53).\")"
   ]
  },
  {
   "cell_type": "markdown",
   "id": "7033f229",
   "metadata": {},
   "source": [
    "## 2-7"
   ]
  },
  {
   "cell_type": "code",
   "execution_count": 29,
   "id": "fe2e76e4",
   "metadata": {},
   "outputs": [
    {
     "name": "stdout",
     "output_type": "stream",
     "text": [
      " Neil Armstrong \n",
      "\n",
      " Neil Armstrong\n",
      "\tNeil Armstrong \n",
      "Neil Armstrong\n"
     ]
    }
   ],
   "source": [
    "spacename = \" Neil Armstrong \"\n",
    "print(spacename)\n",
    "print(\"\\n\" + spacename.rstrip())\n",
    "print(\"\\t\" + spacename.lstrip())\n",
    "print(spacename.strip())"
   ]
  },
  {
   "cell_type": "markdown",
   "id": "7a29bb47",
   "metadata": {},
   "source": [
    "## 2-10"
   ]
  },
  {
   "cell_type": "markdown",
   "id": "f66ca3c4",
   "metadata": {},
   "source": [
    "### 2-7"
   ]
  },
  {
   "cell_type": "code",
   "execution_count": 30,
   "id": "e22162b8",
   "metadata": {},
   "outputs": [
    {
     "name": "stdout",
     "output_type": "stream",
     "text": [
      " Neil Armstrong \n",
      "\n",
      " Neil Armstrong\n",
      "\tNeil Armstrong \n",
      "Neil Armstrong\n"
     ]
    }
   ],
   "source": [
    "spacename = \" Neil Armstrong \" # B/c spaces :)\n",
    "print(spacename)\n",
    "print(\"\\n\" + spacename.rstrip()) # Needs to be \\n with rstrip to see diff in print\n",
    "print(\"\\t\" + spacename.lstrip())\n",
    "print(spacename.strip()) # Check if way to add \\n+\\t more aesthetically\n",
    "# It strips spaces on names & adds tabs & new lines.  Not v. useful, but it functions"
   ]
  },
  {
   "cell_type": "markdown",
   "id": "2ff3e936",
   "metadata": {},
   "source": [
    "### 2-6"
   ]
  },
  {
   "cell_type": "code",
   "execution_count": 4,
   "id": "8e66d12f",
   "metadata": {},
   "outputs": [
    {
     "name": "stdout",
     "output_type": "stream",
     "text": [
      "In Brandon Sanderson's \u001b[4mWay of Kings\u001b[0m, one of my favourite quotes is, \"A man stood on a clifside and watched his homeland fall into dust.  The waters surged beneath, so far beneath.  And he heard a child crying.  They were his own tears\" (53).\n"
     ]
    }
   ],
   "source": [
    "author = \"Brandon Sanderson\"\n",
    "quote = '\"A man stood on a clifside and watched his homeland fall into dust.  The waters surged beneath, so far beneath.  And he heard a child crying.  They were his own tears\"'\n",
    "print(\"In \" + author + \"'s \" + \"\\x1B[4mWay of Kings\" + '\\x1B[0m, one of my favourite quotes is, ' + quote + \" (53).\")\n",
    "# This print command is awful and I'm sure there's a better way to do it.  \n",
    "#Frankly, this was more effort than just typing out the entire thing (see 2-5)\n",
    "#I had to google underlining b/c formatting is important & the code is displeasing, to put it mildly\n",
    "# But it does do what I want, with the author & the underline & the quote, so..."
   ]
  },
  {
   "cell_type": "code",
   "execution_count": null,
   "id": "1a43667f",
   "metadata": {},
   "outputs": [],
   "source": []
  }
 ],
 "metadata": {
  "kernelspec": {
   "display_name": "Python 3 (ipykernel)",
   "language": "python",
   "name": "python3"
  },
  "language_info": {
   "codemirror_mode": {
    "name": "ipython",
    "version": 3
   },
   "file_extension": ".py",
   "mimetype": "text/x-python",
   "name": "python",
   "nbconvert_exporter": "python",
   "pygments_lexer": "ipython3",
   "version": "3.11.4"
  }
 },
 "nbformat": 4,
 "nbformat_minor": 5
}
