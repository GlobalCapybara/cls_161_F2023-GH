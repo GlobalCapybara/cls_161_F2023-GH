{
 "cells": [
  {
   "cell_type": "markdown",
   "id": "4440615b",
   "metadata": {},
   "source": [
    "# Python Crash Course Chapter 3 -GIT add/commit-m/push"
   ]
  },
  {
   "cell_type": "markdown",
   "id": "892c9c3e",
   "metadata": {},
   "source": [
    "## 3-1"
   ]
  },
  {
   "cell_type": "code",
   "execution_count": 5,
   "id": "c8c3e509",
   "metadata": {},
   "outputs": [
    {
     "name": "stdout",
     "output_type": "stream",
     "text": [
      "おかみ\n",
      "蛇\n",
      "いたち\n"
     ]
    }
   ],
   "source": [
    "names = ['おかみ', '蛇', 'いたち']\n",
    "print(names[0])\n",
    "print(names[1])\n",
    "print(names[2])"
   ]
  },
  {
   "cell_type": "markdown",
   "id": "1c251f3c",
   "metadata": {},
   "source": [
    "## 3-2"
   ]
  },
  {
   "cell_type": "code",
   "execution_count": 8,
   "id": "f4ab152d",
   "metadata": {},
   "outputs": [
    {
     "name": "stdout",
     "output_type": "stream",
     "text": [
      "Hwoooo! おかみ\n",
      "'Ssssssss,' 蛇\n",
      "I don't know, いたち\n"
     ]
    }
   ],
   "source": [
    "print(\"Hwoooo! \" + names[0])\n",
    "print(\"'Ssssssss,' \" + names[1])\n",
    "print(\"I don't know, \" + names[2])"
   ]
  },
  {
   "cell_type": "markdown",
   "id": "ece87317",
   "metadata": {},
   "source": [
    "## 3-3"
   ]
  },
  {
   "cell_type": "code",
   "execution_count": 12,
   "id": "0c79066d",
   "metadata": {},
   "outputs": [
    {
     "name": "stdout",
     "output_type": "stream",
     "text": [
      "Die 山の手 Bahnline hat die beste Zugen der ganzer Welt!\n"
     ]
    }
   ],
   "source": [
    "transit = ['中尾', '山の手', '西部']\n",
    "print(\"Die \" + transit[1] + \" Bahnline hat die beste Zugen der ganzer Welt!\")"
   ]
  },
  {
   "cell_type": "markdown",
   "id": "3bd6321a",
   "metadata": {},
   "source": [
    "## 3-4"
   ]
  },
  {
   "cell_type": "code",
   "execution_count": null,
   "id": "0f48cc6a",
   "metadata": {},
   "outputs": [],
   "source": []
  },
  {
   "cell_type": "markdown",
   "id": "8dadf51c",
   "metadata": {},
   "source": [
    "## 3-5"
   ]
  },
  {
   "cell_type": "code",
   "execution_count": null,
   "id": "ced466bd",
   "metadata": {},
   "outputs": [],
   "source": []
  },
  {
   "cell_type": "markdown",
   "id": "b309a04a",
   "metadata": {},
   "source": [
    "## 3-6"
   ]
  },
  {
   "cell_type": "code",
   "execution_count": null,
   "id": "95f9876b",
   "metadata": {},
   "outputs": [],
   "source": []
  },
  {
   "cell_type": "markdown",
   "id": "8ecda625",
   "metadata": {},
   "source": [
    "## 3-7"
   ]
  },
  {
   "cell_type": "code",
   "execution_count": null,
   "id": "d7ac4a63",
   "metadata": {},
   "outputs": [],
   "source": []
  },
  {
   "cell_type": "markdown",
   "id": "ea4ee14d",
   "metadata": {},
   "source": [
    "## 3-8"
   ]
  },
  {
   "cell_type": "code",
   "execution_count": null,
   "id": "19117337",
   "metadata": {},
   "outputs": [],
   "source": []
  }
 ],
 "metadata": {
  "kernelspec": {
   "display_name": "Python 3 (ipykernel)",
   "language": "python",
   "name": "python3"
  },
  "language_info": {
   "codemirror_mode": {
    "name": "ipython",
    "version": 3
   },
   "file_extension": ".py",
   "mimetype": "text/x-python",
   "name": "python",
   "nbconvert_exporter": "python",
   "pygments_lexer": "ipython3",
   "version": "3.11.4"
  }
 },
 "nbformat": 4,
 "nbformat_minor": 5
}
