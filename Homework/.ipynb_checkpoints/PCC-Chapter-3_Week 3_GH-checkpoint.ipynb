{
 "cells": [
  {
   "cell_type": "markdown",
   "id": "4440615b",
   "metadata": {},
   "source": [
    "# Python Crash Course Chapter 3 -GIT add/commit-m/push"
   ]
  },
  {
   "cell_type": "markdown",
   "id": "892c9c3e",
   "metadata": {},
   "source": [
    "## 3-1"
   ]
  },
  {
   "cell_type": "code",
   "execution_count": 5,
   "id": "c8c3e509",
   "metadata": {},
   "outputs": [
    {
     "name": "stdout",
     "output_type": "stream",
     "text": [
      "おかみ\n",
      "蛇\n",
      "いたち\n"
     ]
    }
   ],
   "source": [
    "names = ['おかみ', '蛇', 'いたち']\n",
    "print(names[0])\n",
    "print(names[1])\n",
    "print(names[2])"
   ]
  },
  {
   "cell_type": "markdown",
   "id": "1c251f3c",
   "metadata": {},
   "source": [
    "## 3-2"
   ]
  },
  {
   "cell_type": "code",
   "execution_count": 8,
   "id": "f4ab152d",
   "metadata": {},
   "outputs": [
    {
     "name": "stdout",
     "output_type": "stream",
     "text": [
      "Hwoooo! おかみ\n",
      "'Ssssssss,' 蛇\n",
      "I don't know, いたち\n"
     ]
    }
   ],
   "source": [
    "print(\"Hwoooo! \" + names[0])\n",
    "print(\"'Ssssssss,' \" + names[1])\n",
    "print(\"I don't know, \" + names[2])"
   ]
  },
  {
   "cell_type": "markdown",
   "id": "ece87317",
   "metadata": {},
   "source": [
    "## 3-3"
   ]
  },
  {
   "cell_type": "code",
   "execution_count": 12,
   "id": "0c79066d",
   "metadata": {},
   "outputs": [
    {
     "name": "stdout",
     "output_type": "stream",
     "text": [
      "Die 山の手 Bahnline hat die beste Zugen der ganzer Welt!\n"
     ]
    }
   ],
   "source": [
    "transit = ['中尾', '山の手', '西部']\n",
    "print(\"Die \" + transit[1] + \" Bahnline hat die beste Zugen der ganzer Welt!\")"
   ]
  },
  {
   "cell_type": "markdown",
   "id": "3bd6321a",
   "metadata": {},
   "source": [
    "## 3-4"
   ]
  },
  {
   "cell_type": "code",
   "execution_count": 11,
   "id": "0f48cc6a",
   "metadata": {},
   "outputs": [
    {
     "name": "stdout",
     "output_type": "stream",
     "text": [
      "Dear Rosi Braidotti; You are cordially invited to a dinner to discuss literary theory at the referenced time.  We hope to see you there.\n",
      "Dear Linda Hutcheon; You are cordially invited to a dinner to discuss literary theory at the referenced time.  We hope to see you there.\n",
      "Dear Gen Urobuchi; You are cordially invited to a dinner to discuss literary theory at the referenced time.  We hope to see you there.\n"
     ]
    }
   ],
   "source": [
    "guest_list = ['Rosi Braidotti', 'Linda Hutcheon','Gen Urobuchi']\n",
    "for guest in guest_list:\n",
    "    print(\"Dear \" + guest + \"; You are cordially invited to a dinner to discuss literary theory at the referenced time.  We hope to see you there.\") \n",
    "# IT ACTUALLY WORKS???? HOW? \n",
    "# Also, how was this more work than just printing the same thing three times?\n",
    "# I suppose I shouldn't question it."
   ]
  },
  {
   "cell_type": "markdown",
   "id": "8dadf51c",
   "metadata": {},
   "source": [
    "## 3-5"
   ]
  },
  {
   "cell_type": "code",
   "execution_count": 121,
   "id": "ced466bd",
   "metadata": {},
   "outputs": [
    {
     "name": "stdout",
     "output_type": "stream",
     "text": [
      "Dear Rosi Braidotti; You are cordially invited to a dinner to discuss literary theory at the referenced time.  We hope to see you there.\n",
      "Dear Linda Hutcheon; You are cordially invited to a dinner to discuss literary theory at the referenced time.  We hope to see you there.\n",
      "Dear Gen Urobuchi; You are cordially invited to a dinner to discuss literary theory at the referenced time.  We hope to see you there.\n",
      "\n",
      "Rosi Braidotti couldn't make it.\n",
      "\n",
      "Dear Audre Lorde; You are cordially invited to a dinner to discuss literary theory at the referenced time.  We hope to see you there.\n",
      "Dear Linda Hutcheon; You are cordially invited to a dinner to discuss literary theory at the referenced time.  We hope to see you there.\n",
      "Dear Gen Urobuchi; You are cordially invited to a dinner to discuss literary theory at the referenced time.  We hope to see you there.\n"
     ]
    }
   ],
   "source": [
    "guest_list = ['Rosi Braidotti', 'Linda Hutcheon','Gen Urobuchi']\n",
    "for guest in guest_list:\n",
    "    print(\"Dear \" + guest + \"; You are cordially invited to a dinner to discuss literary theory at the referenced time.  We hope to see you there.\") \n",
    "Popped_Guest = guest_list.pop(0)\n",
    "print(\"\\n\"+ Popped_Guest + \" couldn't make it.\\n\")\n",
    "guest_list.insert(0,'Audre Lorde')\n",
    "for guest in guest_list:\n",
    "    print(\"Dear \" + guest + \"; You are cordially invited to a dinner to discuss literary theory at the referenced time.  We hope to see you there.\")\n"
   ]
  },
  {
   "cell_type": "markdown",
   "id": "b309a04a",
   "metadata": {},
   "source": [
    "## 3-6"
   ]
  },
  {
   "cell_type": "code",
   "execution_count": 127,
   "id": "95f9876b",
   "metadata": {},
   "outputs": [
    {
     "name": "stdout",
     "output_type": "stream",
     "text": [
      "Dear Susan Sontag; You are cordially invited to a dinner to discuss literary theory at the referenced time.  We hope to see you there.\n",
      "Dear Susan Sontag; You are cordially invited to a dinner to discuss literary theory at the referenced time.  We hope to see you there.\n",
      "Dear Judith Butler; You are cordially invited to a dinner to discuss literary theory at the referenced time.  We hope to see you there.\n",
      "Dear Audre Lorde; You are cordially invited to a dinner to discuss literary theory at the referenced time.  We hope to see you there.\n",
      "Dear Judith Butler; You are cordially invited to a dinner to discuss literary theory at the referenced time.  We hope to see you there.\n",
      "Dear Linda Hutcheon; You are cordially invited to a dinner to discuss literary theory at the referenced time.  We hope to see you there.\n",
      "Dear Gen Urobuchi; You are cordially invited to a dinner to discuss literary theory at the referenced time.  We hope to see you there.\n",
      "Dear Edward Gibbon; You are cordially invited to a dinner to discuss literary theory at the referenced time.  We hope to see you there.\n",
      "Dear Edward Gibbon; You are cordially invited to a dinner to discuss literary theory at the referenced time.  We hope to see you there.\n",
      "\n",
      " We're going to need a bigger table.\n"
     ]
    }
   ],
   "source": [
    "guest_list.insert(0,'Susan Sontag')\n",
    "guest_list.insert(2,'Judith Butler')\n",
    "guest_list.append('Edward Gibbon')\n",
    "for guest in guest_list:\n",
    "    print(\"Dear \" + guest + \"; You are cordially invited to a dinner to discuss literary theory at the referenced time.  We hope to see you there.\")\n",
    "print(\"\\n We're going to need a bigger table.\")"
   ]
  },
  {
   "cell_type": "markdown",
   "id": "8ecda625",
   "metadata": {},
   "source": [
    "## 3-7"
   ]
  },
  {
   "cell_type": "code",
   "execution_count": 183,
   "id": "84b3107f",
   "metadata": {},
   "outputs": [
    {
     "name": "stdout",
     "output_type": "stream",
     "text": [
      "This is the guest list: \n",
      "['Susan Sontag', 'Audre Lorde', 'Judith Butler', 'Linda Hutcheon', 'Gen Urobuchi', 'Edward Gibbon']\n",
      "\n",
      "Susan Sontag, we are saddened to inform you that there is no longer space for you to attend.  We hope to see you next year.\n",
      "\n",
      "Linda Hutcheon, we are saddened to inform you that there is no longer space for you to attend.  We hope to see you next year.\n",
      "\n",
      "Gen Urobuchi, we are saddened to inform you that there is no longer space for you to attend.  We hope to see you next year.\n",
      "\n",
      "Edward Gibbon, we are saddened to inform you that there is no longer space for you to attend.  We hope to see you next year.\n",
      "\n",
      "Audre Lorde, we hope to see you at the event!\n",
      "\n",
      "Judith Butler, we hope to see you at the event!\n",
      "[]\n"
     ]
    }
   ],
   "source": [
    "guest_list = ['Susan Sontag','Audre Lorde','Judith Butler','Linda Hutcheon','Gen Urobuchi','Edward Gibbon']\n",
    "# Hard-coded to makes sure there are no issues with same positioning\n",
    "print(\"This is the guest list: \") # Confirm List\n",
    "print(guest_list) # Make it visible\n",
    "\n",
    "# for guest in guest_list:\n",
    "#     print(\"Dear \" + guest + \"; You are cordially invited to a dinner to discuss literary theory at the referenced time.  We hope to see you there.\")\n",
    "# print(\"\\n We're going to need a bigger table.\") << See Previous Exercises\n",
    "Iterative_guest_list = list(guest_list) \n",
    "# ^Set Copy of list as template so counting doesn't get screwed up by pop\n",
    "for guest in Iterative_guest_list:\n",
    "    if (guest != \"Audre Lorde\" and guest != \"Judith Butler\"): \n",
    "        # This said or for sooooo long --whyyyyy - I took a logic class :(\n",
    "        Pop_Cycle = guest_list.pop(guest_list.index(guest)) \n",
    "        # Get Guest, turn it into a number so it works with pop, turn it into a variable for later.  All my invention, why doesn't find work? \n",
    "        print(\"\\n\" + Pop_Cycle +\", we are saddened to inform you that there is no longer space for you to attend.  We hope to see you next year.\")\n",
    "        #\\n so the result is readable\n",
    "    else:\n",
    "        continue #doubt this is necessary but whatever\n",
    "Sec_Iterative_guest_list = list(guest_list) #For del, same problem as pop, saves manual time in theory\n",
    "for guest in Sec_Iterative_guest_list:\n",
    "    print(\"\\n\" + guest + \", we hope to see you at the event!\")\n",
    "    del guest_list[guest_list.index(guest)] #Same trick as ln14, just with del\n",
    "print(guest_list) # Check if list empty\n",
    "# IT'S FINALLY DONE OH MY F-ING GOSH IT'S BEEN 2&1/2 F-ING HOURS!  \n",
    "#Thanks to Ian Unebasami for helping me realize my booleans were wrong & Jack Lombardo for looking over the code\n",
    "# And especially thanks to Yuma for helping me make a copy/iterative list\n",
    "# I know there was a simpler way to do it\n",
    "# But I thought this was the more efficient way to do it *shrug*\n",
    "# And I certainly know how to use for loops now\n",
    "# P.S. - I know I could have gone to office hours, but I just wanted the darn equation done with \n",
    "# All notes by me obv\n",
    "       \n",
    "    "
   ]
  },
  {
   "cell_type": "code",
   "execution_count": 182,
   "id": "d7ac4a63",
   "metadata": {},
   "outputs": [
    {
     "name": "stdout",
     "output_type": "stream",
     "text": [
      "This is the guest list: \n",
      "['Susan Sontag', 'Audre Lorde', 'Judith Butler', 'Linda Hutcheon', 'Gen Urobuchi', 'Edward Gibbon']\n",
      "Susan Sontag\n",
      "Popping: Susan Sontag\n",
      "0\n",
      "Susan Sontag\n",
      "['Audre Lorde', 'Judith Butler', 'Linda Hutcheon', 'Gen Urobuchi', 'Edward Gibbon']\n",
      "Judith Butler\n",
      "Ignoring: Judith Butler\n",
      "Linda Hutcheon\n",
      "Popping: Linda Hutcheon\n",
      "2\n",
      "Linda Hutcheon\n",
      "['Audre Lorde', 'Judith Butler', 'Gen Urobuchi', 'Edward Gibbon']\n",
      "Edward Gibbon\n",
      "Popping: Edward Gibbon\n",
      "3\n",
      "Edward Gibbon\n",
      "['Audre Lorde', 'Judith Butler', 'Gen Urobuchi']\n",
      "This is the final guest list: \n",
      "['Audre Lorde', 'Judith Butler', 'Gen Urobuchi']\n"
     ]
    }
   ],
   "source": [
    "#Previous Attempts\n",
    "guest_list = ['Susan Sontag','Audre Lorde','Judith Butler','Linda Hutcheon','Gen Urobuchi','Edward Gibbon']\n",
    "\n",
    "print(\"This is the guest list: \")\n",
    "print(guest_list)\n",
    "\n",
    "# for guest in guest_list:\n",
    "#     print(\"Dear \" + guest + \"; You are cordially invited to a dinner to discuss literary theory at the referenced time.  We hope to see you there.\")\n",
    "# print(\"\\n We're going to need a bigger table.\")\n",
    "\n",
    "for guest in guest_list:\n",
    "    print(guest)\n",
    "    if (guest != \"Audre Lorde\" and guest != \"Judith Butler\"):\n",
    "        print(\"Popping: \" + guest)\n",
    "        print(guest_list.index(guest))\n",
    "        Pop_Cycle = guest_list.pop(guest_list.index(guest))\n",
    "        print(Pop_Cycle)\n",
    "        print(guest_list)\n",
    "    else:\n",
    "        print(\"Ignoring: \" + guest)\n",
    "        continue\n",
    "print(\"This is the final guest list: \")\n",
    "print(guest_list)\n",
    "   # elif print(guest) == \"Audre Lorde\" or \"Judith Butler\"\n",
    "   #     continue\n",
    "    #Pop_Cycle = guest_list.pop() \n",
    "    #print(Pop_Cycle)\n",
    "\n",
    "       \n",
    "    "
   ]
  },
  {
   "cell_type": "code",
   "execution_count": 126,
   "id": "3be77597",
   "metadata": {
    "scrolled": true
   },
   "outputs": [
    {
     "ename": "TypeError",
     "evalue": "index expected at least 1 argument, got 0",
     "output_type": "error",
     "traceback": [
      "\u001b[1;31m---------------------------------------------------------------------------\u001b[0m",
      "\u001b[1;31mTypeError\u001b[0m                                 Traceback (most recent call last)",
      "Cell \u001b[1;32mIn[126], line 2\u001b[0m\n\u001b[0;32m      1\u001b[0m hey \u001b[38;5;241m=\u001b[39m guest_list\u001b[38;5;241m.\u001b[39mindex(\u001b[38;5;124m\"\u001b[39m\u001b[38;5;124mEdward Gibbon\u001b[39m\u001b[38;5;124m\"\u001b[39m)\n\u001b[1;32m----> 2\u001b[0m guest_list\u001b[38;5;241m.\u001b[39mindex()\n\u001b[0;32m      3\u001b[0m \u001b[38;5;28mprint\u001b[39m(hey)\n",
      "\u001b[1;31mTypeError\u001b[0m: index expected at least 1 argument, got 0"
     ]
    }
   ],
   "source": [
    "hey = guest_list.index(\"Edward Gibbon\")\n",
    "guest_list.index()\n",
    "print(hey) # Testing :("
   ]
  },
  {
   "cell_type": "code",
   "execution_count": 92,
   "id": "182522ca",
   "metadata": {},
   "outputs": [
    {
     "name": "stdout",
     "output_type": "stream",
     "text": [
      "Susan Sontag\n",
      "0\n",
      "Audre Lorde\n",
      "1\n",
      "Judith Butler\n",
      "2\n",
      "Linda Hutcheon\n",
      "3\n",
      "Gen Urobuchi\n",
      "4\n",
      "Edward Gibbon\n",
      "5\n"
     ]
    }
   ],
   "source": [
    "for guest in guest_list:\n",
    "    if print(guest) != \"Audre Lorde\" or \"Judith Butler\":\n",
    "        Pop_Cycle = guest_list.index(guest)\n",
    "        print(Pop_Cycle)\n",
    "        # I have overcomplicated this"
   ]
  },
  {
   "cell_type": "markdown",
   "id": "ea4ee14d",
   "metadata": {},
   "source": [
    "## 3-8"
   ]
  },
  {
   "cell_type": "code",
   "execution_count": 195,
   "id": "19117337",
   "metadata": {},
   "outputs": [
    {
     "name": "stdout",
     "output_type": "stream",
     "text": [
      "['Stockholm', 'Hokkaido', 'Sydney', 'Prague', 'London']\n",
      "['Hokkaido', 'London', 'Prague', 'Stockholm', 'Sydney']\n",
      "['Stockholm', 'Hokkaido', 'Sydney', 'Prague', 'London']\n",
      "['Sydney', 'Stockholm', 'Prague', 'London', 'Hokkaido']\n",
      "['Stockholm', 'Hokkaido', 'Sydney', 'Prague', 'London']\n",
      "['London', 'Prague', 'Sydney', 'Hokkaido', 'Stockholm']\n",
      "['Stockholm', 'Hokkaido', 'Sydney', 'Prague', 'London']\n",
      "['Hokkaido', 'London', 'Prague', 'Stockholm', 'Sydney']\n",
      "['Sydney', 'Stockholm', 'Prague', 'London', 'Hokkaido']\n"
     ]
    }
   ],
   "source": [
    "places_list = ['Stockholm','Hokkaido','Sydney','Prague','London']\n",
    "print(places_list)\n",
    "print(sorted(places_list))\n",
    "print(places_list)\n",
    "print(sorted(places_list, reverse=True))\n",
    "print(places_list)\n",
    "places_list.reverse()\n",
    "print(places_list)\n",
    "places_list.reverse()\n",
    "print(places_list)\n",
    "places_list.sort()\n",
    "print(places_list)\n",
    "places_list.sort(reverse=True)\n",
    "print(places_list)"
   ]
  },
  {
   "cell_type": "code",
   "execution_count": null,
   "id": "60b6360d",
   "metadata": {},
   "outputs": [],
   "source": []
  }
 ],
 "metadata": {
  "kernelspec": {
   "display_name": "Python 3 (ipykernel)",
   "language": "python",
   "name": "python3"
  },
  "language_info": {
   "codemirror_mode": {
    "name": "ipython",
    "version": 3
   },
   "file_extension": ".py",
   "mimetype": "text/x-python",
   "name": "python",
   "nbconvert_exporter": "python",
   "pygments_lexer": "ipython3",
   "version": "3.11.4"
  }
 },
 "nbformat": 4,
 "nbformat_minor": 5
}
