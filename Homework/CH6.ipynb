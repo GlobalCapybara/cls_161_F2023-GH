{
 "cells": [
  {
   "cell_type": "markdown",
   "id": "1d9de633",
   "metadata": {},
   "source": [
    "# 6-1, 6-2, 6-3, 6-4, 6-5, 6-7, 6-8, 6-9, 6-11"
   ]
  },
  {
   "cell_type": "markdown",
   "id": "87e6310a",
   "metadata": {},
   "source": [
    "# 6-1"
   ]
  },
  {
   "cell_type": "code",
   "execution_count": 1,
   "id": "501d7c27",
   "metadata": {},
   "outputs": [
    {
     "name": "stdout",
     "output_type": "stream",
     "text": [
      "{}\n",
      "{'firstname': 'Judith', 'lastname': 'Butler', 'age': 'Unknown', 'city': 'America'}\n"
     ]
    }
   ],
   "source": [
    "information = {}\n",
    "print(information)\n",
    "information['firstname'] = 'Judith'\n",
    "information['lastname'] = 'Butler'\n",
    "information['age'] = 'Unknown'\n",
    "information['city'] = 'America'\n",
    "print(information)"
   ]
  },
  {
   "cell_type": "markdown",
   "id": "c06e0a45",
   "metadata": {},
   "source": [
    "# 6-2"
   ]
  },
  {
   "cell_type": "code",
   "execution_count": 2,
   "id": "5fb5f285",
   "metadata": {},
   "outputs": [
    {
     "name": "stdout",
     "output_type": "stream",
     "text": [
      "{}\n",
      "{'Yodai': 3, 'Ohda': 55, 'Jiro': 2, 'Kenta': 777, 'Takashi': 2023}\n"
     ]
    }
   ],
   "source": [
    "bestnum = {}\n",
    "print(bestnum)\n",
    "bestnum['Yodai'] = 3\n",
    "bestnum['Ohda'] = 55\n",
    "bestnum['Jiro'] = 2\n",
    "bestnum['Kenta'] = 777\n",
    "bestnum['Takashi'] = 2023\n",
    "print(bestnum)"
   ]
  },
  {
   "cell_type": "markdown",
   "id": "5c2accc7",
   "metadata": {},
   "source": [
    "# 6-3"
   ]
  },
  {
   "cell_type": "code",
   "execution_count": 5,
   "id": "220ceae3",
   "metadata": {},
   "outputs": [
    {
     "name": "stdout",
     "output_type": "stream",
     "text": [
      "{}\n",
      "string: Set of letters/numbers, not integer\n",
      "List: Set of individual items in positions starting at 0\n",
      "Dictionary: Set of keys and connected outputs, positions based on key\n",
      "pop: remove the last item of a list\n",
      "append: add to the last item of a list\n"
     ]
    }
   ],
   "source": [
    "glossary = {}\n",
    "print(glossary)\n",
    "glossary['string'] = 'Set of letters/numbers, not integer'\n",
    "glossary['List'] = 'Set of individual items in positions starting at 0'\n",
    "glossary['Dictionary'] = 'Set of keys and connected outputs, positions based on key'\n",
    "glossary['pop'] = 'remove the last item of a list'\n",
    "glossary['append'] = 'add to the last item of a list'\n",
    "for term in glossary.keys():\n",
    "    print(f\"{term}: {glossary[term]}\")"
   ]
  },
  {
   "cell_type": "markdown",
   "id": "2115a76b",
   "metadata": {},
   "source": [
    "# 6-4"
   ]
  },
  {
   "cell_type": "code",
   "execution_count": 7,
   "id": "81128332",
   "metadata": {},
   "outputs": [
    {
     "name": "stdout",
     "output_type": "stream",
     "text": [
      "{}\n",
      "string: Set of letters/numbers, not integer\n",
      "List: Set of individual items in positions starting at 0\n",
      "Dictionary: Set of keys and connected outputs, positions based on key\n",
      "pop: remove the last item of a list\n",
      "append: add to the last item of a list\n",
      "integer: Number\n",
      "{}: Denotes a dictionary\n",
      "[]: Denotes a list\n",
      "\"\": Denotes a string\n",
      "variable: that which can be assigned a value\n"
     ]
    }
   ],
   "source": [
    "glossary = {}\n",
    "print(glossary)\n",
    "glossary['string'] = 'Set of letters/numbers, not integer'\n",
    "glossary['List'] = 'Set of individual items in positions starting at 0'\n",
    "glossary['Dictionary'] = 'Set of keys and connected outputs, positions based on key'\n",
    "glossary['pop'] = 'remove the last item of a list'\n",
    "glossary['append'] = 'add to the last item of a list'\n",
    "glossary['integer'] = 'Number'\n",
    "glossary['{}'] = 'Denotes a dictionary'\n",
    "glossary['[]'] = 'Denotes a list'\n",
    "glossary['\"\"'] = 'Denotes a string'\n",
    "glossary['variable'] = 'that which can be assigned a value'\n",
    "for term in glossary.keys():\n",
    "    print(f\"{term}: {glossary[term]}\") # I did it this way the first time"
   ]
  },
  {
   "cell_type": "markdown",
   "id": "3fd6f731",
   "metadata": {},
   "source": [
    "# 6-5"
   ]
  },
  {
   "cell_type": "code",
   "execution_count": 12,
   "id": "6e20777c",
   "metadata": {},
   "outputs": [
    {
     "name": "stdout",
     "output_type": "stream",
     "text": [
      "{}\n",
      "{'Volga': 'Russia', 'Thames': 'England', 'Rhone': 'Switzerland'}\n",
      "Volga\n",
      "Russia\n",
      "Thames\n",
      "England\n",
      "Rhone\n",
      "Switzerland\n"
     ]
    }
   ],
   "source": [
    "river = {}\n",
    "print(river)\n",
    "river['Volga'] = 'Russia'\n",
    "river['Thames'] = 'England'\n",
    "river['Rhone'] = 'Switzerland'\n",
    "print(river)\n",
    "for r,c in river.items():\n",
    "    print(r)\n",
    "    print(c)"
   ]
  },
  {
   "cell_type": "markdown",
   "id": "c741d06f",
   "metadata": {},
   "source": [
    "# 6-7"
   ]
  },
  {
   "cell_type": "code",
   "execution_count": 24,
   "id": "88641b70",
   "metadata": {},
   "outputs": [
    {
     "name": "stdout",
     "output_type": "stream",
     "text": [
      "{}\n",
      "{'firstname': 'Judith', 'lastname': 'Butler', 'age': 'Unknown', 'city': 'America'}\n",
      "{}\n",
      "{'firstname': 'Geoffrey', 'lastname': 'Parker', 'age': 'Old', 'city': 'UK'}\n",
      "{}\n",
      "{'firstname': 'Gustav', 'lastname': 'Vasa', 'age': 'Dead', 'city': 'Stockholm/Karelia'}\n",
      "[{'firstname': 'Judith', 'lastname': 'Butler', 'age': 'Unknown', 'city': 'America'}, {'firstname': 'Geoffrey', 'lastname': 'Parker', 'age': 'Old', 'city': 'UK'}, {'firstname': 'Gustav', 'lastname': 'Vasa', 'age': 'Dead', 'city': 'Stockholm/Karelia'}]\n",
      "Judith Butler, Unknown in America\n",
      "Geoffrey Parker, Old in UK\n",
      "Gustav Vasa, Dead in Stockholm/Karelia\n"
     ]
    }
   ],
   "source": [
    "information = {}\n",
    "print(information)\n",
    "information['firstname'] = 'Judith'\n",
    "information['lastname'] = 'Butler'\n",
    "information['age'] = 'Unknown'\n",
    "information['city'] = 'America'\n",
    "print(information)\n",
    "p2 = {}\n",
    "print(p2)\n",
    "p2['firstname'] = 'Geoffrey'\n",
    "p2['lastname'] = 'Parker'\n",
    "p2['age'] = 'Old'\n",
    "p2['city'] = 'UK'\n",
    "print(p2)\n",
    "p3 = {}\n",
    "print(p3)\n",
    "p3['firstname'] = 'Gustav'\n",
    "p3['lastname'] = 'Vasa'\n",
    "p3['age'] = 'Dead'\n",
    "p3['city'] = 'Stockholm/Karelia'\n",
    "print(p3)\n",
    "people = [information,p2,p3]\n",
    "print(people)\n",
    "for person in people:\n",
    "    print(person['firstname']+\" \" + person['lastname'] + \", \" + person['age']+ \" in \" + person['city'])"
   ]
  },
  {
   "cell_type": "markdown",
   "id": "03d1c807",
   "metadata": {},
   "source": [
    "# 6-8"
   ]
  },
  {
   "cell_type": "code",
   "execution_count": 28,
   "id": "0cd74bb3",
   "metadata": {},
   "outputs": [
    {
     "name": "stdout",
     "output_type": "stream",
     "text": [
      "fox--Owned by: Bonito\n",
      "snake--Owned by: Scientist\n",
      "monkey--Owned by: President\n"
     ]
    }
   ],
   "source": [
    "狐= {}\n",
    "狐['animal'] = 'fox'\n",
    "狐['owner'] = 'Bonito'\n",
    "蛇 = {}\n",
    "蛇['animal'] = 'snake'\n",
    "蛇['owner'] = 'Scientist'\n",
    "猿 = {}\n",
    "猿['animal'] = 'monkey'\n",
    "猿['owner'] = 'President'\n",
    "pets = [狐,蛇,猿]\n",
    "for pet in pets:\n",
    "    print(pet['animal'] + \"--Owned by: \" + pet['owner'])"
   ]
  },
  {
   "cell_type": "markdown",
   "id": "254a8f06",
   "metadata": {},
   "source": [
    "# 6-9"
   ]
  },
  {
   "cell_type": "code",
   "execution_count": 32,
   "id": "bcbf96fd",
   "metadata": {},
   "outputs": [
    {
     "name": "stdout",
     "output_type": "stream",
     "text": [
      "M's favourite place is Hokkaido and Sapporo\n",
      "Y's favourite place is Kobe and Kyoto\n",
      "G's favourite place is Tokyo and Shinkansen\n"
     ]
    }
   ],
   "source": [
    "favourite_places = {}\n",
    "favourite_places['M'] = ['Hokkaido', 'Sapporo']\n",
    "favourite_places['Y'] = ['Kobe', 'Kyoto']\n",
    "favourite_places['G'] = ['Tokyo','Shinkansen']\n",
    "for k, v in favourite_places.items():\n",
    "    print(f\"{k}'s favourite place is {v[0]} and {v[1]}\")"
   ]
  },
  {
   "cell_type": "markdown",
   "id": "b551a28d",
   "metadata": {},
   "source": [
    "# 6-11"
   ]
  },
  {
   "cell_type": "code",
   "execution_count": 41,
   "id": "f32ff300",
   "metadata": {},
   "outputs": [
    {
     "name": "stdout",
     "output_type": "stream",
     "text": [
      "Tokyo has 38 million people, is located in Japan and a fun fact is that Good food there\n",
      "Boston has 4 million people, is located in USA and a fun fact is that we are here!\n",
      "Marstopia has 0 people, is located in Space and a fun fact is that No one has been there since the incident\n"
     ]
    }
   ],
   "source": [
    "cities = {}\n",
    "cities['Tokyo'] = {'population':'38 million','country': 'Japan','fact':'Good food there'}\n",
    "cities['Boston'] = {'population':'4 million','country': 'USA','fact':'we are here!'}\n",
    "cities['Marstopia'] = {'population':'0','country': 'Space','fact':'No one has been there since the incident'}\n",
    "for c, i in cities.items():\n",
    "    print(f\"{c} has {i['population']} people, is located in {i['country']} and a fun fact is that {i['fact']}\")"
   ]
  },
  {
   "cell_type": "code",
   "execution_count": null,
   "id": "e5dd4bf6",
   "metadata": {},
   "outputs": [],
   "source": []
  }
 ],
 "metadata": {
  "kernelspec": {
   "display_name": "Python 3 (ipykernel)",
   "language": "python",
   "name": "python3"
  },
  "language_info": {
   "codemirror_mode": {
    "name": "ipython",
    "version": 3
   },
   "file_extension": ".py",
   "mimetype": "text/x-python",
   "name": "python",
   "nbconvert_exporter": "python",
   "pygments_lexer": "ipython3",
   "version": "3.11.4"
  }
 },
 "nbformat": 4,
 "nbformat_minor": 5
}
